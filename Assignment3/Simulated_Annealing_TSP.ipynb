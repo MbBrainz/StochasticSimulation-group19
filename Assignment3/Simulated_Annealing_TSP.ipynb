{
 "cells": [
  {
   "cell_type": "code",
   "execution_count": 1,
   "id": "1737c582",
   "metadata": {},
   "outputs": [],
   "source": [
    "import numpy as np\n",
    "import math\n",
    "from random import seed\n",
    "from random import random\n",
    "from numba import jit"
   ]
  },
  {
   "cell_type": "code",
   "execution_count": 3,
   "id": "d51ef15d",
   "metadata": {},
   "outputs": [],
   "source": [
    "T_start = 1000\n",
    "T_end = 1\n",
    "cooling_factor = 0.99\n",
    "nMarkov = 1000\n",
    "from functions import read_tsp_file\n",
    "coords = read_tsp_file(\"TSP-Configurations/eil51.tsp\")\n",
    "\n",
    "from functions import comp_shortest_path\n",
    "\n",
    "\n",
    "itr, min_cost, optimal_list_cities = comp_shortest_path(\n",
    "    T_start, T_end, cooling_factor, nMarkov, coords, dataset=\"eil51\", save_data=True)\n",
    "    \n",
    "\n",
    "itr, min_cost, optimal_list_cities = comp_shortest_path(\n",
    "    T_start, T_end, cooling_factor, nMarkov, coords, dataset=\"eil51\", save_data=True)"
   ]
  },
  {
   "cell_type": "code",
   "execution_count": 5,
   "id": "ef74e4d4",
   "metadata": {},
   "outputs": [
    {
     "data": {
      "text/html": [
       "<div>\n",
       "<style scoped>\n",
       "    .dataframe tbody tr th:only-of-type {\n",
       "        vertical-align: middle;\n",
       "    }\n",
       "\n",
       "    .dataframe tbody tr th {\n",
       "        vertical-align: top;\n",
       "    }\n",
       "\n",
       "    .dataframe thead th {\n",
       "        text-align: right;\n",
       "    }\n",
       "</style>\n",
       "<table border=\"1\" class=\"dataframe\">\n",
       "  <thead>\n",
       "    <tr style=\"text-align: right;\">\n",
       "      <th></th>\n",
       "      <th>Minimal Cost</th>\n",
       "      <th>Optimal Path</th>\n",
       "      <th>iterations</th>\n",
       "      <th>Computation Time</th>\n",
       "      <th>Dataset</th>\n",
       "      <th>Start Temperature</th>\n",
       "      <th>End Temperature</th>\n",
       "      <th>Markov Chain Length</th>\n",
       "    </tr>\n",
       "  </thead>\n",
       "  <tbody>\n",
       "    <tr>\n",
       "      <th>0</th>\n",
       "      <td>433.336992</td>\n",
       "      <td>[ 4 37 10 11 45 50 26 31  0 21  1 15 49 33 29 ...</td>\n",
       "      <td>688</td>\n",
       "      <td>11.541096</td>\n",
       "      <td>eil51</td>\n",
       "      <td>1000</td>\n",
       "      <td>1</td>\n",
       "      <td>1000</td>\n",
       "    </tr>\n",
       "    <tr>\n",
       "      <th>1</th>\n",
       "      <td>416.582378</td>\n",
       "      <td>[42  6 22 23 13 24 17 46 16 36  4 37 10 31 50 ...</td>\n",
       "      <td>688</td>\n",
       "      <td>11.451278</td>\n",
       "      <td>eil51</td>\n",
       "      <td>1000</td>\n",
       "      <td>1</td>\n",
       "      <td>1000</td>\n",
       "    </tr>\n",
       "    <tr>\n",
       "      <th>2</th>\n",
       "      <td>424.225321</td>\n",
       "      <td>[50 45 11 46  3 17 12 40 39 18 41 43 16 36 14 ...</td>\n",
       "      <td>688</td>\n",
       "      <td>12.237017</td>\n",
       "      <td>eil51</td>\n",
       "      <td>1000</td>\n",
       "      <td>1</td>\n",
       "      <td>1000</td>\n",
       "    </tr>\n",
       "  </tbody>\n",
       "</table>\n",
       "</div>"
      ],
      "text/plain": [
       "   Minimal Cost                                       Optimal Path  \\\n",
       "0    433.336992  [ 4 37 10 11 45 50 26 31  0 21  1 15 49 33 29 ...   \n",
       "1    416.582378  [42  6 22 23 13 24 17 46 16 36  4 37 10 31 50 ...   \n",
       "2    424.225321  [50 45 11 46  3 17 12 40 39 18 41 43 16 36 14 ...   \n",
       "\n",
       "   iterations  Computation Time Dataset  Start Temperature  End Temperature  \\\n",
       "0         688         11.541096   eil51               1000                1   \n",
       "1         688         11.451278   eil51               1000                1   \n",
       "2         688         12.237017   eil51               1000                1   \n",
       "\n",
       "   Markov Chain Length  \n",
       "0                 1000  \n",
       "1                 1000  \n",
       "2                 1000  "
      ]
     },
     "execution_count": 5,
     "metadata": {},
     "output_type": "execute_result"
    }
   ],
   "source": [
    "from functions import read_data\n",
    "df = read_data()\n",
    "# print(min_cost)\n",
    "df.head()"
   ]
  },
  {
   "cell_type": "code",
   "execution_count": 5,
   "id": "37d39f45",
   "metadata": {},
   "outputs": [
    {
     "name": "stdout",
     "output_type": "stream",
     "text": [
      "[31  0 21  1 10 37  4 36 16  3 17 46 11 45 50 26  5 47 22 23 42  6 25  7\n",
      " 30 27  2 35 34 19 28 20 15 49 33 29  8 48  9 38 32 44 14 43 41 39 18 40\n",
      " 12 24 13]\n"
     ]
    }
   ],
   "source": [
    "print(optimal_list_cities)"
   ]
  },
  {
   "cell_type": "code",
   "execution_count": 6,
   "id": "4ed9d05f",
   "metadata": {},
   "outputs": [
    {
     "name": "stdout",
     "output_type": "stream",
     "text": [
      "688\n"
     ]
    }
   ],
   "source": [
    "print(itr)"
   ]
  },
  {
   "cell_type": "markdown",
   "id": "a291a97d",
   "metadata": {},
   "source": []
  },
  {
   "cell_type": "code",
   "execution_count": null,
   "id": "3eafc3b6",
   "metadata": {},
   "outputs": [],
   "source": []
  }
 ],
 "metadata": {
  "kernelspec": {
   "display_name": "Python 3",
   "language": "python",
   "name": "python3"
  },
  "language_info": {
   "codemirror_mode": {
    "name": "ipython",
    "version": 3
   },
   "file_extension": ".py",
   "mimetype": "text/x-python",
   "name": "python",
   "nbconvert_exporter": "python",
   "pygments_lexer": "ipython3",
   "version": "3.9.9"
  }
 },
 "nbformat": 4,
 "nbformat_minor": 5
}
