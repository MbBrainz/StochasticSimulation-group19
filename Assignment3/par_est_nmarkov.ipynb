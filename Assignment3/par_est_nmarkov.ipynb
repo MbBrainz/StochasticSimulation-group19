{
 "cells": [
  {
   "cell_type": "code",
   "execution_count": 5,
   "metadata": {},
   "outputs": [],
   "source": [
    "import numpy as np\n",
    "import math\n",
    "from random import seed\n",
    "from random import random\n",
    "from numba import jit, prange\n",
    "\n",
    "from functions import comp_shortest_path, read_tsp_file, read_data, TestResult"
   ]
  },
  {
   "cell_type": "code",
   "execution_count": 70,
   "metadata": {},
   "outputs": [],
   "source": [
    "T_start = 1000\n",
    "T_end = 0.005\n",
    "cooling_factor = 0.99\n",
    "nMarkov = 280\n",
    "coords = read_tsp_file(\"TSP-Configurations/a280.tsp\")\n"
   ]
  },
  {
   "cell_type": "code",
   "execution_count": 71,
   "metadata": {},
   "outputs": [
    {
     "ename": "OverflowError",
     "evalue": "math range error",
     "output_type": "error",
     "traceback": [
      "\u001b[0;31m---------------------------------------------------------------------------\u001b[0m",
      "\u001b[0;31mOverflowError\u001b[0m                             Traceback (most recent call last)",
      "\u001b[0;32m/var/folders/mv/f8_1wvxj5pb6vtgkw45gpdrc0000gp/T/ipykernel_34164/2292918669.py\u001b[0m in \u001b[0;36m<module>\u001b[0;34m\u001b[0m\n\u001b[1;32m      4\u001b[0m             T_start, T_end, cooling_factor, nMarkov, coords, dataset=\"a280\", save_data=True)\n\u001b[1;32m      5\u001b[0m \u001b[0;34m\u001b[0m\u001b[0m\n\u001b[0;32m----> 6\u001b[0;31m \u001b[0mloop\u001b[0m\u001b[0;34m(\u001b[0m\u001b[0;36m2\u001b[0m\u001b[0;34m)\u001b[0m\u001b[0;34m\u001b[0m\u001b[0;34m\u001b[0m\u001b[0m\n\u001b[0m",
      "\u001b[0;32m/var/folders/mv/f8_1wvxj5pb6vtgkw45gpdrc0000gp/T/ipykernel_34164/2292918669.py\u001b[0m in \u001b[0;36mloop\u001b[0;34m(n)\u001b[0m\n\u001b[1;32m      1\u001b[0m \u001b[0;32mdef\u001b[0m \u001b[0mloop\u001b[0m\u001b[0;34m(\u001b[0m\u001b[0mn\u001b[0m\u001b[0;34m)\u001b[0m\u001b[0;34m:\u001b[0m\u001b[0;34m\u001b[0m\u001b[0;34m\u001b[0m\u001b[0m\n\u001b[1;32m      2\u001b[0m     \u001b[0;32mfor\u001b[0m \u001b[0mi\u001b[0m \u001b[0;32min\u001b[0m \u001b[0mrange\u001b[0m\u001b[0;34m(\u001b[0m\u001b[0mn\u001b[0m\u001b[0;34m)\u001b[0m\u001b[0;34m:\u001b[0m\u001b[0;34m\u001b[0m\u001b[0;34m\u001b[0m\u001b[0m\n\u001b[0;32m----> 3\u001b[0;31m         itr, min_cost, optimal_list_cities = comp_shortest_path(\n\u001b[0m\u001b[1;32m      4\u001b[0m             T_start, T_end, cooling_factor, nMarkov, coords, dataset=\"a280\", save_data=True)\n\u001b[1;32m      5\u001b[0m \u001b[0;34m\u001b[0m\u001b[0m\n",
      "\u001b[0;32m~/Documents/Documents – Maurits' MacBook Pro/UvA/Stochastic Simulation/code/StochasticSimulation-group19/Assignment3/functions.py\u001b[0m in \u001b[0;36mcomp_shortest_path\u001b[0;34m(T_start, T_end, cooling_factor, nMarkov, coords, dataset, save_data)\u001b[0m\n\u001b[1;32m    171\u001b[0m             \u001b[0mrandom_num\u001b[0m \u001b[0;34m=\u001b[0m \u001b[0mnp\u001b[0m\u001b[0;34m.\u001b[0m\u001b[0mrandom\u001b[0m\u001b[0;34m.\u001b[0m\u001b[0muniform\u001b[0m\u001b[0;34m(\u001b[0m\u001b[0;34m)\u001b[0m\u001b[0;34m\u001b[0m\u001b[0;34m\u001b[0m\u001b[0m\n\u001b[1;32m    172\u001b[0m             \u001b[0;31m#print(prob)\u001b[0m\u001b[0;34m\u001b[0m\u001b[0;34m\u001b[0m\u001b[0m\n\u001b[0;32m--> 173\u001b[0;31m \u001b[0;34m\u001b[0m\u001b[0m\n\u001b[0m\u001b[1;32m    174\u001b[0m             \u001b[0;31m# Accept it\u001b[0m\u001b[0;34m\u001b[0m\u001b[0;34m\u001b[0m\u001b[0m\n\u001b[1;32m    175\u001b[0m             \u001b[0;32mif\u001b[0m\u001b[0;34m(\u001b[0m\u001b[0mrandom_num\u001b[0m \u001b[0;34m<=\u001b[0m \u001b[0mprob\u001b[0m\u001b[0;34m)\u001b[0m\u001b[0;34m:\u001b[0m\u001b[0;34m\u001b[0m\u001b[0;34m\u001b[0m\u001b[0m\n",
      "\u001b[0;31mOverflowError\u001b[0m: math range error"
     ]
    }
   ],
   "source": [
    "def loop(n):\n",
    "    for i in range(n):\n",
    "        itr, min_cost, optimal_list_cities = comp_shortest_path(\n",
    "            T_start, T_end, cooling_factor, nMarkov, coords, dataset=\"a280\", save_data=True)\n",
    "        \n",
    "loop(2)"
   ]
  },
  {
   "cell_type": "code",
   "execution_count": 67,
   "metadata": {},
   "outputs": [
    {
     "data": {
      "text/plain": [
       "array([ 70, 140, 210, 280, 350, 420, 490, 560])"
      ]
     },
     "execution_count": 67,
     "metadata": {},
     "output_type": "execute_result"
    }
   ],
   "source": [
    "ncities = 280\n",
    "start = int(ncities/4)\n",
    "step = start\n",
    "stop = int(ncities*2+step)\n",
    "nmarkov_list = np.arange(start, stop, step, dtype=int)\n",
    "nmarkov_list\n",
    "# for nmarkov in nmarkov_list:\n",
    "#     loop_markov(10,n_markov=nmarkov)\n",
    "    "
   ]
  },
  {
   "cell_type": "code",
   "execution_count": 31,
   "metadata": {},
   "outputs": [],
   "source": [
    "df = read_data()"
   ]
  },
  {
   "cell_type": "code",
   "execution_count": 32,
   "metadata": {},
   "outputs": [
    {
     "data": {
      "text/html": [
       "<div>\n",
       "<style scoped>\n",
       "    .dataframe tbody tr th:only-of-type {\n",
       "        vertical-align: middle;\n",
       "    }\n",
       "\n",
       "    .dataframe tbody tr th {\n",
       "        vertical-align: top;\n",
       "    }\n",
       "\n",
       "    .dataframe thead th {\n",
       "        text-align: right;\n",
       "    }\n",
       "</style>\n",
       "<table border=\"1\" class=\"dataframe\">\n",
       "  <thead>\n",
       "    <tr style=\"text-align: right;\">\n",
       "      <th></th>\n",
       "      <th>Minimal Cost</th>\n",
       "      <th>Optimal Path</th>\n",
       "      <th>iterations</th>\n",
       "      <th>Computation Time</th>\n",
       "      <th>Dataset</th>\n",
       "      <th>Start Temperature</th>\n",
       "      <th>End Temperature</th>\n",
       "      <th>Markov Chain Length</th>\n",
       "    </tr>\n",
       "  </thead>\n",
       "  <tbody>\n",
       "    <tr>\n",
       "      <th>0</th>\n",
       "      <td>433.336992</td>\n",
       "      <td>[ 4 37 10 11 45 50 26 31  0 21  1 15 49 33 29 ...</td>\n",
       "      <td>688</td>\n",
       "      <td>11.541096</td>\n",
       "      <td>eil51</td>\n",
       "      <td>1000</td>\n",
       "      <td>1.0</td>\n",
       "      <td>1000</td>\n",
       "    </tr>\n",
       "    <tr>\n",
       "      <th>1</th>\n",
       "      <td>416.582378</td>\n",
       "      <td>[42  6 22 23 13 24 17 46 16 36  4 37 10 31 50 ...</td>\n",
       "      <td>688</td>\n",
       "      <td>11.451278</td>\n",
       "      <td>eil51</td>\n",
       "      <td>1000</td>\n",
       "      <td>1.0</td>\n",
       "      <td>1000</td>\n",
       "    </tr>\n",
       "    <tr>\n",
       "      <th>2</th>\n",
       "      <td>424.225321</td>\n",
       "      <td>[50 45 11 46  3 17 12 40 39 18 41 43 16 36 14 ...</td>\n",
       "      <td>688</td>\n",
       "      <td>12.237017</td>\n",
       "      <td>eil51</td>\n",
       "      <td>1000</td>\n",
       "      <td>1.0</td>\n",
       "      <td>1000</td>\n",
       "    </tr>\n",
       "    <tr>\n",
       "      <th>3</th>\n",
       "      <td>423.736762</td>\n",
       "      <td>[ 7 25 30 27  2 35 34 19 28 20 49 15  1 21  0 ...</td>\n",
       "      <td>688</td>\n",
       "      <td>11.554114</td>\n",
       "      <td>eil51</td>\n",
       "      <td>1000</td>\n",
       "      <td>1.0</td>\n",
       "      <td>1000</td>\n",
       "    </tr>\n",
       "    <tr>\n",
       "      <th>4</th>\n",
       "      <td>423.269945</td>\n",
       "      <td>[29 33 49 15 20 28  1 19 34 35  2 27 30  7 25 ...</td>\n",
       "      <td>688</td>\n",
       "      <td>12.906812</td>\n",
       "      <td>eil51</td>\n",
       "      <td>1000</td>\n",
       "      <td>1.0</td>\n",
       "      <td>1000</td>\n",
       "    </tr>\n",
       "  </tbody>\n",
       "</table>\n",
       "</div>"
      ],
      "text/plain": [
       "   Minimal Cost                                       Optimal Path  \\\n",
       "0    433.336992  [ 4 37 10 11 45 50 26 31  0 21  1 15 49 33 29 ...   \n",
       "1    416.582378  [42  6 22 23 13 24 17 46 16 36  4 37 10 31 50 ...   \n",
       "2    424.225321  [50 45 11 46  3 17 12 40 39 18 41 43 16 36 14 ...   \n",
       "3    423.736762  [ 7 25 30 27  2 35 34 19 28 20 49 15  1 21  0 ...   \n",
       "4    423.269945  [29 33 49 15 20 28  1 19 34 35  2 27 30  7 25 ...   \n",
       "\n",
       "   iterations  Computation Time Dataset  Start Temperature  End Temperature  \\\n",
       "0         688         11.541096   eil51               1000              1.0   \n",
       "1         688         11.451278   eil51               1000              1.0   \n",
       "2         688         12.237017   eil51               1000              1.0   \n",
       "3         688         11.554114   eil51               1000              1.0   \n",
       "4         688         12.906812   eil51               1000              1.0   \n",
       "\n",
       "   Markov Chain Length  \n",
       "0                 1000  \n",
       "1                 1000  \n",
       "2                 1000  \n",
       "3                 1000  \n",
       "4                 1000  "
      ]
     },
     "execution_count": 32,
     "metadata": {},
     "output_type": "execute_result"
    }
   ],
   "source": [
    "df.head()\n"
   ]
  },
  {
   "cell_type": "code",
   "execution_count": 49,
   "metadata": {},
   "outputs": [
    {
     "data": {
      "text/html": [
       "<div>\n",
       "<style scoped>\n",
       "    .dataframe tbody tr th:only-of-type {\n",
       "        vertical-align: middle;\n",
       "    }\n",
       "\n",
       "    .dataframe tbody tr th {\n",
       "        vertical-align: top;\n",
       "    }\n",
       "\n",
       "    .dataframe thead tr th {\n",
       "        text-align: left;\n",
       "    }\n",
       "\n",
       "    .dataframe thead tr:last-of-type th {\n",
       "        text-align: right;\n",
       "    }\n",
       "</style>\n",
       "<table border=\"1\" class=\"dataframe\">\n",
       "  <thead>\n",
       "    <tr>\n",
       "      <th></th>\n",
       "      <th colspan=\"8\" halign=\"left\">Minimal Cost</th>\n",
       "      <th colspan=\"2\" halign=\"left\">iterations</th>\n",
       "      <th>...</th>\n",
       "      <th colspan=\"2\" halign=\"left\">Start Temperature</th>\n",
       "      <th colspan=\"8\" halign=\"left\">Markov Chain Length</th>\n",
       "    </tr>\n",
       "    <tr>\n",
       "      <th></th>\n",
       "      <th>count</th>\n",
       "      <th>mean</th>\n",
       "      <th>std</th>\n",
       "      <th>min</th>\n",
       "      <th>25%</th>\n",
       "      <th>50%</th>\n",
       "      <th>75%</th>\n",
       "      <th>max</th>\n",
       "      <th>count</th>\n",
       "      <th>mean</th>\n",
       "      <th>...</th>\n",
       "      <th>75%</th>\n",
       "      <th>max</th>\n",
       "      <th>count</th>\n",
       "      <th>mean</th>\n",
       "      <th>std</th>\n",
       "      <th>min</th>\n",
       "      <th>25%</th>\n",
       "      <th>50%</th>\n",
       "      <th>75%</th>\n",
       "      <th>max</th>\n",
       "    </tr>\n",
       "    <tr>\n",
       "      <th>End Temperature</th>\n",
       "      <th></th>\n",
       "      <th></th>\n",
       "      <th></th>\n",
       "      <th></th>\n",
       "      <th></th>\n",
       "      <th></th>\n",
       "      <th></th>\n",
       "      <th></th>\n",
       "      <th></th>\n",
       "      <th></th>\n",
       "      <th></th>\n",
       "      <th></th>\n",
       "      <th></th>\n",
       "      <th></th>\n",
       "      <th></th>\n",
       "      <th></th>\n",
       "      <th></th>\n",
       "      <th></th>\n",
       "      <th></th>\n",
       "      <th></th>\n",
       "      <th></th>\n",
       "    </tr>\n",
       "  </thead>\n",
       "  <tbody>\n",
       "    <tr>\n",
       "      <th>0.005</th>\n",
       "      <td>10.0</td>\n",
       "      <td>423.244641</td>\n",
       "      <td>4.343441</td>\n",
       "      <td>416.539668</td>\n",
       "      <td>420.586480</td>\n",
       "      <td>423.435556</td>\n",
       "      <td>426.829458</td>\n",
       "      <td>428.675744</td>\n",
       "      <td>10.0</td>\n",
       "      <td>1215.0</td>\n",
       "      <td>...</td>\n",
       "      <td>1000.0</td>\n",
       "      <td>1000.0</td>\n",
       "      <td>10.0</td>\n",
       "      <td>1000.0</td>\n",
       "      <td>0.0</td>\n",
       "      <td>1000.0</td>\n",
       "      <td>1000.0</td>\n",
       "      <td>1000.0</td>\n",
       "      <td>1000.0</td>\n",
       "      <td>1000.0</td>\n",
       "    </tr>\n",
       "    <tr>\n",
       "      <th>1.000</th>\n",
       "      <td>33.0</td>\n",
       "      <td>424.696112</td>\n",
       "      <td>5.333614</td>\n",
       "      <td>412.352026</td>\n",
       "      <td>421.621099</td>\n",
       "      <td>424.225321</td>\n",
       "      <td>427.290256</td>\n",
       "      <td>433.974755</td>\n",
       "      <td>33.0</td>\n",
       "      <td>688.0</td>\n",
       "      <td>...</td>\n",
       "      <td>1000.0</td>\n",
       "      <td>1000.0</td>\n",
       "      <td>33.0</td>\n",
       "      <td>1000.0</td>\n",
       "      <td>0.0</td>\n",
       "      <td>1000.0</td>\n",
       "      <td>1000.0</td>\n",
       "      <td>1000.0</td>\n",
       "      <td>1000.0</td>\n",
       "      <td>1000.0</td>\n",
       "    </tr>\n",
       "  </tbody>\n",
       "</table>\n",
       "<p>2 rows × 40 columns</p>\n",
       "</div>"
      ],
      "text/plain": [
       "                Minimal Cost                                                \\\n",
       "                       count        mean       std         min         25%   \n",
       "End Temperature                                                              \n",
       "0.005                   10.0  423.244641  4.343441  416.539668  420.586480   \n",
       "1.000                   33.0  424.696112  5.333614  412.352026  421.621099   \n",
       "\n",
       "                                                    iterations          ...  \\\n",
       "                        50%         75%         max      count    mean  ...   \n",
       "End Temperature                                                         ...   \n",
       "0.005            423.435556  426.829458  428.675744       10.0  1215.0  ...   \n",
       "1.000            424.225321  427.290256  433.974755       33.0   688.0  ...   \n",
       "\n",
       "                Start Temperature         Markov Chain Length               \\\n",
       "                              75%     max               count    mean  std   \n",
       "End Temperature                                                              \n",
       "0.005                      1000.0  1000.0                10.0  1000.0  0.0   \n",
       "1.000                      1000.0  1000.0                33.0  1000.0  0.0   \n",
       "\n",
       "                                                         \n",
       "                    min     25%     50%     75%     max  \n",
       "End Temperature                                          \n",
       "0.005            1000.0  1000.0  1000.0  1000.0  1000.0  \n",
       "1.000            1000.0  1000.0  1000.0  1000.0  1000.0  \n",
       "\n",
       "[2 rows x 40 columns]"
      ]
     },
     "execution_count": 49,
     "metadata": {},
     "output_type": "execute_result"
    }
   ],
   "source": [
    "# df.describe()\n",
    "df.groupby(headers[6]).describe()"
   ]
  },
  {
   "cell_type": "code",
   "execution_count": 48,
   "metadata": {},
   "outputs": [
    {
     "data": {
      "text/plain": [
       "<seaborn.axisgrid.FacetGrid at 0x1249a07c0>"
      ]
     },
     "execution_count": 48,
     "metadata": {},
     "output_type": "execute_result"
    },
    {
     "data": {
      "image/png": "[encoded data removed]",
      "text/plain": [
       "<Figure size 360x360 with 1 Axes>"
      ]
     },
     "metadata": {
      "needs_background": "light"
     },
     "output_type": "display_data"
    }
   ],
   "source": [
    "import seaborn as sns\n",
    "headers = TestResult.headers()\n",
    "sns.displot(data=df[df[headers[6]] == 0.005], x=headers[0], kde=True)"
   ]
  },
  {
   "cell_type": "code",
   "execution_count": 47,
   "metadata": {},
   "outputs": [
    {
     "data": {
      "text/html": [
       "<div>\n",
       "<style scoped>\n",
       "    .dataframe tbody tr th:only-of-type {\n",
       "        vertical-align: middle;\n",
       "    }\n",
       "\n",
       "    .dataframe tbody tr th {\n",
       "        vertical-align: top;\n",
       "    }\n",
       "\n",
       "    .dataframe thead th {\n",
       "        text-align: right;\n",
       "    }\n",
       "</style>\n",
       "<table border=\"1\" class=\"dataframe\">\n",
       "  <thead>\n",
       "    <tr style=\"text-align: right;\">\n",
       "      <th></th>\n",
       "      <th>Minimal Cost</th>\n",
       "      <th>Optimal Path</th>\n",
       "      <th>iterations</th>\n",
       "      <th>Computation Time</th>\n",
       "      <th>Dataset</th>\n",
       "      <th>Start Temperature</th>\n",
       "      <th>End Temperature</th>\n",
       "      <th>Markov Chain Length</th>\n",
       "    </tr>\n",
       "  </thead>\n",
       "  <tbody>\n",
       "    <tr>\n",
       "      <th>0</th>\n",
       "      <td>433.336992</td>\n",
       "      <td>[ 4 37 10 11 45 50 26 31  0 21  1 15 49 33 29 ...</td>\n",
       "      <td>688</td>\n",
       "      <td>11.541096</td>\n",
       "      <td>eil51</td>\n",
       "      <td>1000</td>\n",
       "      <td>1.0</td>\n",
       "      <td>1000</td>\n",
       "    </tr>\n",
       "    <tr>\n",
       "      <th>1</th>\n",
       "      <td>416.582378</td>\n",
       "      <td>[42  6 22 23 13 24 17 46 16 36  4 37 10 31 50 ...</td>\n",
       "      <td>688</td>\n",
       "      <td>11.451278</td>\n",
       "      <td>eil51</td>\n",
       "      <td>1000</td>\n",
       "      <td>1.0</td>\n",
       "      <td>1000</td>\n",
       "    </tr>\n",
       "    <tr>\n",
       "      <th>2</th>\n",
       "      <td>424.225321</td>\n",
       "      <td>[50 45 11 46  3 17 12 40 39 18 41 43 16 36 14 ...</td>\n",
       "      <td>688</td>\n",
       "      <td>12.237017</td>\n",
       "      <td>eil51</td>\n",
       "      <td>1000</td>\n",
       "      <td>1.0</td>\n",
       "      <td>1000</td>\n",
       "    </tr>\n",
       "    <tr>\n",
       "      <th>3</th>\n",
       "      <td>423.736762</td>\n",
       "      <td>[ 7 25 30 27  2 35 34 19 28 20 49 15  1 21  0 ...</td>\n",
       "      <td>688</td>\n",
       "      <td>11.554114</td>\n",
       "      <td>eil51</td>\n",
       "      <td>1000</td>\n",
       "      <td>1.0</td>\n",
       "      <td>1000</td>\n",
       "    </tr>\n",
       "    <tr>\n",
       "      <th>4</th>\n",
       "      <td>423.269945</td>\n",
       "      <td>[29 33 49 15 20 28  1 19 34 35  2 27 30  7 25 ...</td>\n",
       "      <td>688</td>\n",
       "      <td>12.906812</td>\n",
       "      <td>eil51</td>\n",
       "      <td>1000</td>\n",
       "      <td>1.0</td>\n",
       "      <td>1000</td>\n",
       "    </tr>\n",
       "  </tbody>\n",
       "</table>\n",
       "</div>"
      ],
      "text/plain": [
       "   Minimal Cost                                       Optimal Path  \\\n",
       "0    433.336992  [ 4 37 10 11 45 50 26 31  0 21  1 15 49 33 29 ...   \n",
       "1    416.582378  [42  6 22 23 13 24 17 46 16 36  4 37 10 31 50 ...   \n",
       "2    424.225321  [50 45 11 46  3 17 12 40 39 18 41 43 16 36 14 ...   \n",
       "3    423.736762  [ 7 25 30 27  2 35 34 19 28 20 49 15  1 21  0 ...   \n",
       "4    423.269945  [29 33 49 15 20 28  1 19 34 35  2 27 30  7 25 ...   \n",
       "\n",
       "   iterations  Computation Time Dataset  Start Temperature  End Temperature  \\\n",
       "0         688         11.541096   eil51               1000              1.0   \n",
       "1         688         11.451278   eil51               1000              1.0   \n",
       "2         688         12.237017   eil51               1000              1.0   \n",
       "3         688         11.554114   eil51               1000              1.0   \n",
       "4         688         12.906812   eil51               1000              1.0   \n",
       "\n",
       "   Markov Chain Length  \n",
       "0                 1000  \n",
       "1                 1000  \n",
       "2                 1000  \n",
       "3                 1000  \n",
       "4                 1000  "
      ]
     },
     "execution_count": 47,
     "metadata": {},
     "output_type": "execute_result"
    }
   ],
   "source": [
    "df[df[headers[5]] == 1000].head()"
   ]
  },
  {
   "cell_type": "code",
   "execution_count": 51,
   "metadata": {},
   "outputs": [
    {
     "data": {
      "text/plain": [
       "True"
      ]
     },
     "execution_count": 51,
     "metadata": {},
     "output_type": "execute_result"
    }
   ],
   "source": [
    "dataset = \"gsdag\"\n",
    "dataset != \"\""
   ]
  },
  {
   "cell_type": "code",
   "execution_count": null,
   "metadata": {},
   "outputs": [],
   "source": []
  }
 ],
 "metadata": {
  "interpreter": {
   "hash": "ac2eaa0ea0ebeafcc7822e65e46aa9d4f966f30b695406963e145ea4a91cd4fc"
  },
  "kernelspec": {
   "display_name": "Python 3.9.5 64-bit",
   "language": "python",
   "name": "python3"
  },
  "language_info": {
   "codemirror_mode": {
    "name": "ipython",
    "version": 3
   },
   "file_extension": ".py",
   "mimetype": "text/x-python",
   "name": "python",
   "nbconvert_exporter": "python",
   "pygments_lexer": "ipython3",
   "version": "3.9.9"
  },
  "orig_nbformat": 4
 },
 "nbformat": 4,
 "nbformat_minor": 2
}
