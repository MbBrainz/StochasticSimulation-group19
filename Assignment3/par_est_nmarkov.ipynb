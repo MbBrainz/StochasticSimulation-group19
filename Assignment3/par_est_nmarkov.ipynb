{
 "cells": [
  {
   "cell_type": "code",
   "execution_count": 2,
   "metadata": {},
   "outputs": [],
   "source": [
    "import numpy as np\n",
    "import math\n",
    "from random import seed\n",
    "from random import random\n",
    "from numba import jit, prange\n",
    "\n",
    "from functions import comp_shortest_path, read_tsp_file, read_data, TestResult"
   ]
  },
  {
   "cell_type": "code",
   "execution_count": 2,
   "metadata": {},
   "outputs": [],
   "source": [
    "T_start = 1000\n",
    "T_end = 0.005\n",
    "cooling_factor = 0.99\n",
    "nMarkov = 280\n",
    "coords = read_tsp_file(\"TSP-Configurations/a280.tsp\")\n"
   ]
  },
  {
   "cell_type": "code",
   "execution_count": 12,
   "metadata": {},
   "outputs": [],
   "source": [
    "def loop(n, nmarkov=nMarkov):\n",
    "    for i in range(n):\n",
    "        itr, min_cost, optimal_list_cities, best_cost = comp_shortest_path(\n",
    "            T_start, T_end, cooling_factor, nmarkov, coords, dataset=\"a280\", save_data=True)\n",
    "        \n",
    "def loop_markov(nloop, nmarkov_list):\n",
    "    for nmarkov in nmarkov_list:\n",
    "        loop(nloop,nmarkov)\n",
    "    \n",
    "        \n",
    "        \n",
    "# loop_markov(2,[140, 280])"
   ]
  },
  {
   "cell_type": "code",
   "execution_count": 13,
   "metadata": {},
   "outputs": [],
   "source": [
    "ncities = 280\n",
    "start = int(ncities/4)\n",
    "step = start\n",
    "stop = int(ncities*5+step)\n",
    "nmarkov_list = np.arange(start, stop, step, dtype=int)\n",
    "\n",
    "# loop_markov(25, nmarkov_list)\n",
    "    "
   ]
  },
  {
   "cell_type": "code",
   "execution_count": 3,
   "metadata": {},
   "outputs": [],
   "source": [
    "df = read_data()\n",
    "headers = TestResult.headers()\n",
    "df = df[df[\"Dataset\"] == \"a280\"]"
   ]
  },
  {
   "cell_type": "code",
   "execution_count": 4,
   "metadata": {},
   "outputs": [
    {
     "data": {
      "text/html": [
       "<div>\n",
       "<style scoped>\n",
       "    .dataframe tbody tr th:only-of-type {\n",
       "        vertical-align: middle;\n",
       "    }\n",
       "\n",
       "    .dataframe tbody tr th {\n",
       "        vertical-align: top;\n",
       "    }\n",
       "\n",
       "    .dataframe thead th {\n",
       "        text-align: right;\n",
       "    }\n",
       "</style>\n",
       "<table border=\"1\" class=\"dataframe\">\n",
       "  <thead>\n",
       "    <tr style=\"text-align: right;\">\n",
       "      <th></th>\n",
       "      <th>Minimal Cost</th>\n",
       "      <th>iterations</th>\n",
       "      <th>Computation Time</th>\n",
       "      <th>Start Temperature</th>\n",
       "      <th>End Temperature</th>\n",
       "      <th>Markov Chain Length</th>\n",
       "    </tr>\n",
       "  </thead>\n",
       "  <tbody>\n",
       "    <tr>\n",
       "      <th>count</th>\n",
       "      <td>504.000000</td>\n",
       "      <td>504.0</td>\n",
       "      <td>504.000000</td>\n",
       "      <td>504.0</td>\n",
       "      <td>504.000</td>\n",
       "      <td>504.000000</td>\n",
       "    </tr>\n",
       "    <tr>\n",
       "      <th>mean</th>\n",
       "      <td>2884.893972</td>\n",
       "      <td>1215.0</td>\n",
       "      <td>14.465961</td>\n",
       "      <td>1000.0</td>\n",
       "      <td>0.005</td>\n",
       "      <td>731.111111</td>\n",
       "    </tr>\n",
       "    <tr>\n",
       "      <th>std</th>\n",
       "      <td>178.836642</td>\n",
       "      <td>0.0</td>\n",
       "      <td>9.363778</td>\n",
       "      <td>0.0</td>\n",
       "      <td>0.000</td>\n",
       "      <td>404.816866</td>\n",
       "    </tr>\n",
       "    <tr>\n",
       "      <th>min</th>\n",
       "      <td>2672.071370</td>\n",
       "      <td>1215.0</td>\n",
       "      <td>1.254679</td>\n",
       "      <td>1000.0</td>\n",
       "      <td>0.005</td>\n",
       "      <td>70.000000</td>\n",
       "    </tr>\n",
       "    <tr>\n",
       "      <th>25%</th>\n",
       "      <td>2784.892692</td>\n",
       "      <td>1215.0</td>\n",
       "      <td>7.134224</td>\n",
       "      <td>1000.0</td>\n",
       "      <td>0.005</td>\n",
       "      <td>350.000000</td>\n",
       "    </tr>\n",
       "    <tr>\n",
       "      <th>50%</th>\n",
       "      <td>2837.991439</td>\n",
       "      <td>1215.0</td>\n",
       "      <td>13.751603</td>\n",
       "      <td>1000.0</td>\n",
       "      <td>0.005</td>\n",
       "      <td>700.000000</td>\n",
       "    </tr>\n",
       "    <tr>\n",
       "      <th>75%</th>\n",
       "      <td>2902.878365</td>\n",
       "      <td>1215.0</td>\n",
       "      <td>20.959207</td>\n",
       "      <td>1000.0</td>\n",
       "      <td>0.005</td>\n",
       "      <td>1050.000000</td>\n",
       "    </tr>\n",
       "    <tr>\n",
       "      <th>max</th>\n",
       "      <td>3694.305961</td>\n",
       "      <td>1215.0</td>\n",
       "      <td>97.068972</td>\n",
       "      <td>1000.0</td>\n",
       "      <td>0.005</td>\n",
       "      <td>1400.000000</td>\n",
       "    </tr>\n",
       "  </tbody>\n",
       "</table>\n",
       "</div>"
      ],
      "text/plain": [
       "       Minimal Cost  iterations  Computation Time  Start Temperature  \\\n",
       "count    504.000000       504.0        504.000000              504.0   \n",
       "mean    2884.893972      1215.0         14.465961             1000.0   \n",
       "std      178.836642         0.0          9.363778                0.0   \n",
       "min     2672.071370      1215.0          1.254679             1000.0   \n",
       "25%     2784.892692      1215.0          7.134224             1000.0   \n",
       "50%     2837.991439      1215.0         13.751603             1000.0   \n",
       "75%     2902.878365      1215.0         20.959207             1000.0   \n",
       "max     3694.305961      1215.0         97.068972             1000.0   \n",
       "\n",
       "       End Temperature  Markov Chain Length  \n",
       "count          504.000           504.000000  \n",
       "mean             0.005           731.111111  \n",
       "std              0.000           404.816866  \n",
       "min              0.005            70.000000  \n",
       "25%              0.005           350.000000  \n",
       "50%              0.005           700.000000  \n",
       "75%              0.005          1050.000000  \n",
       "max              0.005          1400.000000  "
      ]
     },
     "execution_count": 4,
     "metadata": {},
     "output_type": "execute_result"
    }
   ],
   "source": [
    "df.describe()\n"
   ]
  },
  {
   "cell_type": "code",
   "execution_count": 17,
   "metadata": {},
   "outputs": [],
   "source": [
    "# # df.describe()\n",
    "# df.groupby(headers[6]).describe()"
   ]
  },
  {
   "cell_type": "code",
   "execution_count": 22,
   "metadata": {},
   "outputs": [
    {
     "data": {
      "text/plain": [
       "<seaborn.axisgrid.FacetGrid at 0x1284befa0>"
      ]
     },
     "execution_count": 22,
     "metadata": {},
     "output_type": "execute_result"
    },
    {
     "data": {
      "image/png": "[encoded data removed]",
      "text/plain": [
       "<Figure size 360x360 with 1 Axes>"
      ]
     },
     "metadata": {
      "needs_background": "light"
     },
     "output_type": "display_data"
    }
   ],
   "source": [
    "import seaborn as sns\n",
    "headers = TestResult.headers()\n",
    "sns.displot(data=df[df[headers[6]] == 0.005], x=headers[0], kde=True)\n"
   ]
  },
  {
   "cell_type": "code",
   "execution_count": 1,
   "metadata": {},
   "outputs": [
    {
     "ename": "NameError",
     "evalue": "name 'sns' is not defined",
     "output_type": "error",
     "traceback": [
      "\u001b[0;31m---------------------------------------------------------------------------\u001b[0m",
      "\u001b[0;31mNameError\u001b[0m                                 Traceback (most recent call last)",
      "\u001b[0;32m/var/folders/mv/f8_1wvxj5pb6vtgkw45gpdrc0000gp/T/ipykernel_47857/209754573.py\u001b[0m in \u001b[0;36m<module>\u001b[0;34m\u001b[0m\n\u001b[0;32m----> 1\u001b[0;31m \u001b[0msns\u001b[0m\u001b[0;34m.\u001b[0m\u001b[0mviolinplot\u001b[0m\u001b[0;34m(\u001b[0m\u001b[0mdata\u001b[0m\u001b[0;34m=\u001b[0m\u001b[0mdf\u001b[0m\u001b[0;34m,\u001b[0m \u001b[0mx\u001b[0m\u001b[0;34m=\u001b[0m\u001b[0mheaders\u001b[0m\u001b[0;34m[\u001b[0m\u001b[0;36m9\u001b[0m\u001b[0;34m]\u001b[0m\u001b[0;34m,\u001b[0m \u001b[0my\u001b[0m\u001b[0;34m=\u001b[0m\u001b[0mheaders\u001b[0m\u001b[0;34m[\u001b[0m\u001b[0;36m0\u001b[0m\u001b[0;34m]\u001b[0m\u001b[0;34m)\u001b[0m\u001b[0;34m\u001b[0m\u001b[0;34m\u001b[0m\u001b[0m\n\u001b[0m",
      "\u001b[0;31mNameError\u001b[0m: name 'sns' is not defined"
     ]
    }
   ],
   "source": [
    "sns.violinplot(data=df, x=headers[9], y=headers[0])"
   ]
  },
  {
   "cell_type": "code",
   "execution_count": 51,
   "metadata": {},
   "outputs": [
    {
     "data": {
      "text/plain": [
       "True"
      ]
     },
     "execution_count": 51,
     "metadata": {},
     "output_type": "execute_result"
    }
   ],
   "source": [
    "dataset = \"gsdag\"\n",
    "dataset != \"\""
   ]
  },
  {
   "cell_type": "code",
   "execution_count": null,
   "metadata": {},
   "outputs": [],
   "source": [
    "from functions import read_tsp_file_opt, total_dist, distance_matrix\n",
    "coords = read_tsp_file(\"TSP-Configurations/a280.tsp\")\n",
    "opt_tour = read_tsp_file_opt(\"TSP-Configurations/a280.opt.tour.txt\")\n",
    "\n",
    "dist_matrix = distance_matrix(coords=coords)\n",
    "optimal_tour_length = total_dist(opt_tour, dist_matrix)\n"
   ]
  }
 ],
 "metadata": {
  "interpreter": {
   "hash": "ac2eaa0ea0ebeafcc7822e65e46aa9d4f966f30b695406963e145ea4a91cd4fc"
  },
  "kernelspec": {
   "display_name": "Python 3.9.5 64-bit",
   "language": "python",
   "name": "python3"
  },
  "language_info": {
   "codemirror_mode": {
    "name": "ipython",
    "version": 3
   },
   "file_extension": ".py",
   "mimetype": "text/x-python",
   "name": "python",
   "nbconvert_exporter": "python",
   "pygments_lexer": "ipython3",
   "version": "3.9.9"
  },
  "orig_nbformat": 4
 },
 "nbformat": 4,
 "nbformat_minor": 2
}
