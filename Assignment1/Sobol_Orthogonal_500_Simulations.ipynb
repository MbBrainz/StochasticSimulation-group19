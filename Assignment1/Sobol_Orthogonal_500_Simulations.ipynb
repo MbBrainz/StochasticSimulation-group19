{
 "cells": [
  {
   "cell_type": "code",
   "execution_count": 1,
   "id": "6f8569a1",
   "metadata": {},
   "outputs": [
    {
     "name": "stdout",
     "output_type": "stream",
     "text": [
      "[-0.67818267-0.64442672j -0.29409826+0.79686537j  0.89047182-0.3702952j\n",
      " -1.71888047+0.52303463j -1.33442812-0.31042635j  0.54964423+0.15311226j\n",
      "  0.23422861-1.2097154j  -0.87513447+1.05209053j]\n"
     ]
    },
    {
     "data": {
      "image/png": "[encoded data removed]",
      "text/plain": [
       "<Figure size 576x396 with 1 Axes>"
      ]
     },
     "metadata": {},
     "output_type": "display_data"
    },
    {
     "name": "stdout",
     "output_type": "stream",
     "text": [
      "[ 0.88495862+0.02864198j -1.83379138+0.86197531j -0.33379138-0.52691358j\n",
      " -1.08379138+0.30641975j  0.41620862+1.13975309j -1.45879138-0.98987654j\n",
      "  0.04120862-0.15654321j -0.70879138+0.67679013j  0.79120862-0.71209876j]\n"
     ]
    }
   ],
   "source": [
    "import numpy as np\n",
    "import matplotlib.pyplot as plt\n",
    "\n",
    "from sampling_functions import generate_Orthogonal, generate_sobol\n",
    "from mandelbrot_matrix import SEED\n",
    "from simulation_functions import run_simulation"
   ]
  },
  {
   "cell_type": "code",
   "execution_count": 2,
   "id": "c9a6e0b7",
   "metadata": {},
   "outputs": [
    {
     "data": {
      "application/vnd.jupyter.widget-view+json": {
       "model_id": "b71abd26bf7a49b7b721b96f4dd369a0",
       "version_major": 2,
       "version_minor": 0
      },
      "text/plain": [
       "  0%|          | 0/500 [00:00<?, ?it/s]"
      ]
     },
     "metadata": {},
     "output_type": "display_data"
    },
    {
     "name": "stdout",
     "output_type": "stream",
     "text": [
      "0.07073144233949145\n"
     ]
    },
    {
     "data": {
      "application/vnd.jupyter.widget-view+json": {
       "model_id": "7a976c081b7d4d7c9edf036e65ce8b5c",
       "version_major": 2,
       "version_minor": 0
      },
      "text/plain": [
       "  0%|          | 0/500 [00:00<?, ?it/s]"
      ]
     },
     "metadata": {},
     "output_type": "display_data"
    },
    {
     "name": "stdout",
     "output_type": "stream",
     "text": [
      "0.06494355318349664\n"
     ]
    },
    {
     "data": {
      "application/vnd.jupyter.widget-view+json": {
       "model_id": "a824a523b44e431284fb90f75a4942f5",
       "version_major": 2,
       "version_minor": 0
      },
      "text/plain": [
       "  0%|          | 0/500 [00:00<?, ?it/s]"
      ]
     },
     "metadata": {},
     "output_type": "display_data"
    },
    {
     "name": "stdout",
     "output_type": "stream",
     "text": [
      "0.026059710291571773\n"
     ]
    },
    {
     "data": {
      "application/vnd.jupyter.widget-view+json": {
       "model_id": "683e7b18ed2d491196fad3c0c53aac9b",
       "version_major": 2,
       "version_minor": 0
      },
      "text/plain": [
       "  0%|          | 0/500 [00:00<?, ?it/s]"
      ]
     },
     "metadata": {},
     "output_type": "display_data"
    },
    {
     "name": "stdout",
     "output_type": "stream",
     "text": [
      "0.02428395949162746\n"
     ]
    },
    {
     "data": {
      "application/vnd.jupyter.widget-view+json": {
       "model_id": "ca1843448d3a4c8f895aaa60e809a491",
       "version_major": 2,
       "version_minor": 0
      },
      "text/plain": [
       "  0%|          | 0/500 [00:00<?, ?it/s]"
      ]
     },
     "metadata": {},
     "output_type": "display_data"
    },
    {
     "name": "stdout",
     "output_type": "stream",
     "text": [
      "0.01013563051060239\n"
     ]
    },
    {
     "data": {
      "application/vnd.jupyter.widget-view+json": {
       "model_id": "81019fe108aa42f6a5e5e120de148fdb",
       "version_major": 2,
       "version_minor": 0
      },
      "text/plain": [
       "  0%|          | 0/500 [00:00<?, ?it/s]"
      ]
     },
     "metadata": {},
     "output_type": "display_data"
    },
    {
     "name": "stdout",
     "output_type": "stream",
     "text": [
      "0.009095378543107411\n"
     ]
    },
    {
     "data": {
      "application/vnd.jupyter.widget-view+json": {
       "model_id": "7d6b3355f15540e795943eda9bd624a6",
       "version_major": 2,
       "version_minor": 0
      },
      "text/plain": [
       "  0%|          | 0/500 [00:00<?, ?it/s]"
      ]
     },
     "metadata": {},
     "output_type": "display_data"
    },
    {
     "name": "stdout",
     "output_type": "stream",
     "text": [
      "0.0042216100534788895\n"
     ]
    },
    {
     "data": {
      "application/vnd.jupyter.widget-view+json": {
       "model_id": "b2ece9868b154f828f2434dbb2ff6965",
       "version_major": 2,
       "version_minor": 0
      },
      "text/plain": [
       "  0%|          | 0/500 [00:00<?, ?it/s]"
      ]
     },
     "metadata": {},
     "output_type": "display_data"
    },
    {
     "name": "stdout",
     "output_type": "stream",
     "text": [
      "0.003810978106426666\n"
     ]
    },
    {
     "data": {
      "application/vnd.jupyter.widget-view+json": {
       "model_id": "84dafc60e3794bb883e7d288fedce1c1",
       "version_major": 2,
       "version_minor": 0
      },
      "text/plain": [
       "  0%|          | 0/500 [00:00<?, ?it/s]"
      ]
     },
     "metadata": {},
     "output_type": "display_data"
    },
    {
     "name": "stdout",
     "output_type": "stream",
     "text": [
      "0.0015988768325505055\n"
     ]
    },
    {
     "data": {
      "application/vnd.jupyter.widget-view+json": {
       "model_id": "d5b6e55b2ed9477c8bd8a2fbd9907815",
       "version_major": 2,
       "version_minor": 0
      },
      "text/plain": [
       "  0%|          | 0/500 [00:00<?, ?it/s]"
      ]
     },
     "metadata": {},
     "output_type": "display_data"
    },
    {
     "name": "stdout",
     "output_type": "stream",
     "text": [
      "0.0013461154702554667\n"
     ]
    }
   ],
   "source": [
    "sample_size = []\n",
    "# Sample size is power of 2 and perfect square. This is done to get optimum performance for both orthogonal and Sobol Sampling.\n",
    "# In this project, orthogonal is desgined for a perfect square sample size\n",
    "# Sobol is implemented for sample sizes of power of 2\n",
    "# Their performance is very close with respect to the converegnce rate for a Mandelbrot Area.\n",
    "# Therefore, to analyze their unbiased Area estimation we have taken a samples size which is a power of 2 and a perfect square.\n",
    "\n",
    "\n",
    "for num in range(8,17,2):\n",
    "    sample_size.append(np.power(2,num))\n",
    "    \n",
    "test_functions = [generate_Orthogonal, generate_sobol]\n",
    "np.random.seed(SEED)\n",
    "    \n",
    "\n",
    "simulation_runs = 500\n",
    "threshold_iterations = 1000\n",
    "\n",
    "std_orthogonal = []\n",
    "std_sobol = []\n",
    "\n",
    "for sample in sample_size:\n",
    "    \n",
    "    for i in range(len(test_functions)):\n",
    "        mean_area, std_area, calc_time, sample_data = run_simulation(simulation_runs,sample,threshold=threshold_iterations,re_lim=(-2,1), im_lim=(-1.25,1.25), function=test_functions[i])\n",
    "        if(i%2 == 0):\n",
    "            std_orthogonal.append(std_area)\n",
    "        else:\n",
    "            std_sobol.append(std_area)\n",
    "        print(std_area)"
   ]
  },
  {
   "cell_type": "code",
   "execution_count": 12,
   "id": "4ffadf2a",
   "metadata": {},
   "outputs": [
    {
     "data": {
      "image/png": "[encoded data removed]",
      "text/plain": [
       "<Figure size 576x396 with 1 Axes>"
      ]
     },
     "metadata": {},
     "output_type": "display_data"
    }
   ],
   "source": [
    "# Here, we see that Sobol has smaller standard deviation(variance = square(standard_deviation)) as compared to orthogonal\n",
    "# sampling for the same sample size. Therefore, we get a slightly better converegence with the quasi monte carlo method.\n",
    "plt.plot(sample_size, std_orthogonal, label = \"orthogonal\",color='r')\n",
    "plt.plot(sample_size, std_sobol, label = \"sobol\",color='b')\n",
    "\n",
    "plt.xscale(\"log\", base = 2)\n",
    "plt.xticks(sample_size)\n",
    "plt.xlabel(\"Sample Size\")\n",
    "\n",
    "plt.yscale(\"log\")\n",
    "plt.ylabel(\"Standard deviation of the Mandelbrot Area\")\n",
    "plt.legend()\n",
    "plt.show()"
   ]
  },
  {
   "cell_type": "code",
   "execution_count": null,
   "id": "f612adbb",
   "metadata": {},
   "outputs": [],
   "source": []
  }
 ],
 "metadata": {
  "kernelspec": {
   "display_name": "Python 3",
   "language": "python",
   "name": "python3"
  },
  "language_info": {
   "codemirror_mode": {
    "name": "ipython",
    "version": 3
   },
   "file_extension": ".py",
   "mimetype": "text/x-python",
   "name": "python",
   "nbconvert_exporter": "python",
   "pygments_lexer": "ipython3",
   "version": "3.8.8"
  }
 },
 "nbformat": 4,
 "nbformat_minor": 5
}
