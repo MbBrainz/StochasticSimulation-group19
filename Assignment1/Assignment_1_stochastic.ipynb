{
 "cells": [
  {
   "cell_type": "code",
   "execution_count": 23,
   "id": "af16b32f",
   "metadata": {},
   "outputs": [],
   "source": [
    "plt.style.use('seaborn')"
   ]
  },
  {
   "cell_type": "code",
   "execution_count": 21,
   "id": "7452f1d5",
   "metadata": {},
   "outputs": [
    {
     "data": {
      "image/png": "[encoded data removed]",
      "text/plain": [
       "<Figure size 432x288 with 1 Axes>"
      ]
     },
     "metadata": {
      "needs_background": "light"
     },
     "output_type": "display_data"
    },
    {
     "name": "stdout",
     "output_type": "stream",
     "text": [
      "CPU times: user 1h 5min 24s, sys: 20 s, total: 1h 5min 44s\n",
      "Wall time: 14h 10min 56s\n"
     ]
    }
   ],
   "source": [
    "%%time\n",
    "\n",
    "import numpy as np\n",
    "import matplotlib.pyplot as plt\n",
    "\n",
    "\n",
    "re_lim=(-2,1) \n",
    "im_lim=(-1,1)\n",
    "data = []\n",
    "\n",
    "for sim in range(500):\n",
    "\n",
    "    # (b-a)*rand + a\n",
    "    MAX_ITER = 1000\n",
    "\n",
    "    width = 1000\n",
    "    height = 900\n",
    "\n",
    "    re = -3*np.random.rand(width) + 1\n",
    "    #print(re)\n",
    "    im = (-2*np.random.rand(height)+1) * 1j\n",
    "    #print(im)\n",
    "\n",
    "     # create a matrix with the complex values\n",
    "    c_matrix =  np.full((height,width), re) + np.full((width,height), im).transpose()\n",
    "    #print(c_matrix)\n",
    "\n",
    "    # create the counter matrix \"n\" and the z matrix\n",
    "    n = np.zeros((height,width))\n",
    "    z = np.zeros((height,width))\n",
    "\n",
    "     # iterate until the threshold is reached\n",
    "    for k in range(MAX_ITER):\n",
    "        # add one to n_ij only if abs(z_ij[k])<=2\n",
    "        n = np.where(np.abs(z)<=2, n+1, n)\n",
    "        # calculate z_ij[k+1] only if abs(z_ij[k])<=2\n",
    "        z = np.where(np.abs(z)<=2, np.square(z) + c_matrix, z)\n",
    "        \n",
    "    count_inside = 0\n",
    "    for i in range(height):\n",
    "        for j in range(width):\n",
    "            if(n[i][j] >= MAX_ITER):\n",
    "                count_inside += 1\n",
    "\n",
    "    # monte carlo\n",
    "    total_points = width*height\n",
    "    avg = count_inside/total_points\n",
    "    data.append(avg)\n",
    "    \n",
    "weights = np.ones_like(data) / len(data)\n",
    "plt.hist(data,weights=weights, bins= 50, edgecolor='black')\n",
    "plt.show()"
   ]
  },
  {
   "cell_type": "code",
   "execution_count": 24,
   "id": "3e3bca70",
   "metadata": {},
   "outputs": [
    {
     "data": {
      "image/png": "[encoded data removed]",
      "text/plain": [
       "<Figure size 576x396 with 1 Axes>"
      ]
     },
     "metadata": {},
     "output_type": "display_data"
    }
   ],
   "source": [
    "weights = np.ones_like(data) / len(data)\n",
    "plt.hist(data,weights=weights, bins= 50, edgecolor='black')\n",
    "plt.show()"
   ]
  },
  {
   "cell_type": "code",
   "execution_count": null,
   "id": "40a74933",
   "metadata": {},
   "outputs": [],
   "source": [
    "count_inside = 0\n",
    "for i in range(height):\n",
    "    for j in range(width):\n",
    "        if(n[i][j] >= MAX_ITER):\n",
    "            count_inside += 1\n",
    "\n",
    "# monte carlo\n",
    "total_points = width*height\n",
    "rectangle_area = 6\n",
    "area_mandelbrot = (count_inside/total_points)*rectangle_area\n",
    "\n",
    "print(area_mandelbrot)\n",
    "\n",
    "# Google - area of the Mandelbrot set is approximately 1.506484, with a 95% confidence interval from 1.506480 to 1.506488"
   ]
  },
  {
   "cell_type": "code",
   "execution_count": null,
   "id": "e67ca76f",
   "metadata": {},
   "outputs": [],
   "source": []
  },
  {
   "cell_type": "code",
   "execution_count": 17,
   "id": "a0a21506",
   "metadata": {},
   "outputs": [
    {
     "data": {
      "image/png": "[encoded data removed]",
      "text/plain": [
       "<Figure size 432x288 with 1 Axes>"
      ]
     },
     "metadata": {
      "needs_background": "light"
     },
     "output_type": "display_data"
    },
    {
     "name": "stdout",
     "output_type": "stream",
     "text": [
      "CPU times: user 3min 27s, sys: 275 ms, total: 3min 27s\n",
      "Wall time: 3min 27s\n"
     ]
    }
   ],
   "source": [
    "%%time\n",
    "# random variable values - 1 or 0(inside the mandelbrot or not)\n",
    "import numpy as np\n",
    "import matplotlib.pyplot as plt\n",
    "data = []\n",
    "# tossing a coin - 0 or 1\n",
    "for sim in range(10000):\n",
    "    sum = 0\n",
    "    for i in range(10000):\n",
    "        coin = np.random.randint(0, 2)\n",
    "        #print(coin)\n",
    "        sum += coin\n",
    "    avg = sum/1000\n",
    "    data.append(avg)\n",
    "    \n",
    "weights = np.ones_like(data) / len(data)\n",
    "plt.hist(data,weights=weights, bins= 50, edgecolor='black')\n",
    "plt.show()\n",
    "\n",
    "\n",
    "\n",
    "\n"
   ]
  },
  {
   "cell_type": "code",
   "execution_count": 13,
   "id": "6cfe902d",
   "metadata": {},
   "outputs": [
    {
     "name": "stdout",
     "output_type": "stream",
     "text": [
      "1\n"
     ]
    }
   ],
   "source": [
    "print(np.random.randint(0, 2))"
   ]
  },
  {
   "cell_type": "code",
   "execution_count": null,
   "id": "bcd27fac",
   "metadata": {},
   "outputs": [],
   "source": [
    "alpha = 0.05\n",
    "confidence interval = 95%\n",
    "Z_0.025 = 1.96\n",
    "actual_area_madelbrot = 1.506484"
   ]
  },
  {
   "cell_type": "markdown",
   "id": "bee51ca0",
   "metadata": {},
   "source": [
    "error_allowed = 1%"
   ]
  },
  {
   "cell_type": "code",
   "execution_count": 22,
   "id": "794e9541",
   "metadata": {},
   "outputs": [
    {
     "name": "stdout",
     "output_type": "stream",
     "text": [
      "0.01506484\n"
     ]
    }
   ],
   "source": [
    "actual_area_madelbrot = 1.506484\n",
    "print(actual_area_madelbrot*0.01)"
   ]
  },
  {
   "cell_type": "markdown",
   "id": "46fa5f15",
   "metadata": {},
   "source": [
    "l = 0.01506484\n",
    "\n",
    "atop when $ 2*z_{α/2}*S / \\sqrt{k} <  l $"
   ]
  },
  {
   "cell_type": "code",
   "execution_count": null,
   "id": "31c6e1b7",
   "metadata": {},
   "outputs": [],
   "source": [
    "%%time\n",
    "\n",
    "MAX_ITER = 2000\n",
    "\n",
    "def mandelbrot(c):\n",
    "    z = 0\n",
    "    n = 0\n",
    "    while abs(z) <= 2 and n < MAX_ITER:\n",
    "        z = z*z + c\n",
    "        n += 1\n",
    "    return n\n",
    "\n",
    "n = 100\n",
    "\n",
    "\n",
    "# Plot window\n",
    "RE_START = -2\n",
    "RE_END = +1\n",
    "IM_START = -1\n",
    "IM_END = +1\n",
    "\n",
    "counter = 0\n",
    "\n",
    "re = -3*np.random.rand(width) + 1\n",
    "#print(re)\n",
    "im = (-2*np.random.rand(height)+1) * 1j\n",
    "#print(im)\n",
    "\n",
    "for x in range(0, WIDTH):\n",
    "    for y in range(0, HEIGHT):\n",
    "        # Convert pixel coordinate to complex number\n",
    "        c = complex(RE_START + (x / WIDTH) * (RE_END - RE_START),\n",
    "                    IM_START + (y / HEIGHT) * (IM_END - IM_START))\n",
    "        # Compute the number of iterations\n",
    "        m = mandelbrot(c)\n",
    "        if(m >= MAX_ITER):\n",
    "            counter += 1\n",
    "        result.append(m)\n",
    "        # The color depends on the number of iterations\n",
    "        color = 255 - int(m * 255 / MAX_ITER)\n",
    "        #print(color)\n",
    "        # Plot the point\n",
    "        draw.point([x, y], (color, color, color))\n",
    "\n",
    "im.save('output.png', 'PNG')\n",
    "print(counter)"
   ]
  }
 ],
 "metadata": {
  "kernelspec": {
   "display_name": "Python 3",
   "language": "python",
   "name": "python3"
  },
  "language_info": {
   "codemirror_mode": {
    "name": "ipython",
    "version": 3
   },
   "file_extension": ".py",
   "mimetype": "text/x-python",
   "name": "python",
   "nbconvert_exporter": "python",
   "pygments_lexer": "ipython3",
   "version": "3.8.8"
  }
 },
 "nbformat": 4,
 "nbformat_minor": 5
}
