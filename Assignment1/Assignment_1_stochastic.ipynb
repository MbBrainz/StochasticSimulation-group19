{
 "cells": [
  {
   "cell_type": "code",
   "execution_count": 36,
   "id": "af16b32f",
   "metadata": {},
   "outputs": [],
   "source": [
    "\n",
    "from importlib import reload\n",
    "\n",
    "import numpy as np\n",
    "import matplotlib.pyplot as plt\n",
    "import mandelbrot_matrix\n",
    "\n",
    "reload(mandelbrot_matrix)\n",
    "\n",
    "plt.style.use('seaborn')"
   ]
  },
  {
   "cell_type": "code",
   "execution_count": 28,
   "id": "7452f1d5",
   "metadata": {},
   "outputs": [],
   "source": [
    "re_lim=(-2,1) \n",
    "im_lim=(-1,1)\n",
    "data = []"
   ]
  },
  {
   "cell_type": "code",
   "execution_count": 40,
   "id": "4164d272",
   "metadata": {},
   "outputs": [],
   "source": [
    "n_sim = 500     # number of simulations to run``\n",
    "n_size = 1000   # amount of ramdom points\n",
    "threshold = 100 # threshold for mandelbrot\n",
    "\n",
    "np.random.seed(SEED) # type:ignore\n",
    "for sim in range(n_sim):\n",
    "    re, im, n = mandelbrot_matrix.random_mandelbrot_points(n_size, re_lim, im_lim,threshold=threshold)\n",
    "        \n",
    "    count_inside = np.size(np.where(n>=threshold))\n",
    "    \n",
    "    # monte carlo\n",
    "    total_points = n_size\n",
    "    avg = count_inside/total_points\n",
    "    data.append(avg)"
   ]
  },
  {
   "cell_type": "code",
   "execution_count": null,
   "id": "a035130f",
   "metadata": {},
   "outputs": [],
   "source": [
    "\n",
    "weights = np.ones_like(data) / len(data)\n",
    "plt.hist(data,weights=weights, bins= 50, edgecolor='black')\n",
    "plt.show()"
   ]
  },
  {
   "cell_type": "code",
   "execution_count": 45,
   "id": "cb5dee06",
   "metadata": {},
   "outputs": [
    {
     "data": {
      "text/plain": [
       "<matplotlib.colorbar.Colorbar at 0x11033f0d0>"
      ]
     },
     "execution_count": 45,
     "metadata": {},
     "output_type": "execute_result"
    },
    {
     "data": {
      "image/png": "[encoded data removed]",
      "text/plain": [
       "<Figure size 720x504 with 2 Axes>"
      ]
     },
     "metadata": {},
     "output_type": "display_data"
    }
   ],
   "source": [
    "n_size_plot = 100000\n",
    "\n",
    "re_lim=(-2,1) \n",
    "im_lim=(-1.25,1.25)\n",
    "np.random.seed(SEED) #type: ignore\n",
    "re, im, n = mandelbrot_matrix.random_mandelbrot_points(n_size_plot, re_lim, im_lim, threshold=2000)\n",
    "\n",
    "plt.figure(figsize=(10,7))\n",
    "plt.scatter(re,im,c=np.log(n),s=50,alpha=0.6, cmap=\"viridis\")\n",
    "plt.xlabel(\"real axis\")\n",
    "plt.ylabel(\"imaginary axis\")\n",
    "plt.xlim(re_lim)\n",
    "plt.ylim(im_lim)\n",
    "plt.colorbar()\n",
    "# plt.savefig(\"figures/mandelbrot-random-plot-125-viridis.png\", dpi=600)"
   ]
  },
  {
   "cell_type": "code",
   "execution_count": 35,
   "id": "3e3bca70",
   "metadata": {},
   "outputs": [
    {
     "name": "stdout",
     "output_type": "stream",
     "text": [
      "24.729742812444016\n"
     ]
    }
   ],
   "source": [
    "\n"
   ]
  },
  {
   "cell_type": "code",
   "execution_count": 53,
   "id": "40a74933",
   "metadata": {},
   "outputs": [
    {
     "name": "stdout",
     "output_type": "stream",
     "text": [
      "1.494\n"
     ]
    }
   ],
   "source": [
    "# monte carlo\n",
    "total_points = n_size\n",
    "rectangle_area = 6\n",
    "area_mandelbrot = (count_inside/total_points)*rectangle_area\n",
    "\n",
    "print(area_mandelbrot)\n",
    "\n",
    "# Google - area of the Mandelbrot set is approximately 1.506484, with a 95% confidence interval from 1.506480 to 1.506488"
   ]
  },
  {
   "cell_type": "code",
   "execution_count": null,
   "id": "e67ca76f",
   "metadata": {},
   "outputs": [],
   "source": []
  },
  {
   "cell_type": "code",
   "execution_count": 17,
   "id": "a0a21506",
   "metadata": {},
   "outputs": [
    {
     "data": {
      "image/png": "[encoded data removed]",
      "text/plain": [
       "<Figure size 432x288 with 1 Axes>"
      ]
     },
     "metadata": {
      "needs_background": "light"
     },
     "output_type": "display_data"
    },
    {
     "name": "stdout",
     "output_type": "stream",
     "text": [
      "CPU times: user 3min 27s, sys: 275 ms, total: 3min 27s\n",
      "Wall time: 3min 27s\n"
     ]
    }
   ],
   "source": [
    "%%time\n",
    "# random variable values - 1 or 0(inside the mandelbrot or not)\n",
    "import numpy as np\n",
    "import matplotlib.pyplot as plt\n",
    "data = []\n",
    "# tossing a coin - 0 or 1\n",
    "for sim in range(10000):\n",
    "    sum = 0\n",
    "    for i in range(10000):\n",
    "        coin = np.random.randint(0, 2)\n",
    "        #print(coin)\n",
    "        sum += coin\n",
    "    avg = sum/1000\n",
    "    data.append(avg)\n",
    "    \n",
    "weights = np.ones_like(data) / len(data)\n",
    "plt.hist(data,weights=weights, bins= 50, edgecolor='black')\n",
    "plt.show()\n",
    "\n",
    "\n",
    "\n",
    "\n"
   ]
  },
  {
   "cell_type": "code",
   "execution_count": 13,
   "id": "6cfe902d",
   "metadata": {},
   "outputs": [
    {
     "name": "stdout",
     "output_type": "stream",
     "text": [
      "1\n"
     ]
    }
   ],
   "source": [
    "print(np.random.randint(0, 2))"
   ]
  },
  {
   "cell_type": "code",
   "execution_count": null,
   "id": "bcd27fac",
   "metadata": {},
   "outputs": [],
   "source": [
    "alpha = 0.05\n",
    "confidence interval = 95%\n",
    "Z_0.025 = 1.96\n",
    "actual_area_madelbrot = 1.506484"
   ]
  },
  {
   "cell_type": "markdown",
   "id": "bee51ca0",
   "metadata": {},
   "source": [
    "error_allowed = 1%"
   ]
  },
  {
   "cell_type": "code",
   "execution_count": 22,
   "id": "794e9541",
   "metadata": {},
   "outputs": [
    {
     "name": "stdout",
     "output_type": "stream",
     "text": [
      "0.01506484\n"
     ]
    }
   ],
   "source": [
    "actual_area_madelbrot = 1.506484\n",
    "print(actual_area_madelbrot*0.01)"
   ]
  },
  {
   "cell_type": "markdown",
   "id": "46fa5f15",
   "metadata": {},
   "source": [
    "l = 0.01506484\n",
    "\n",
    "atop when $ 2*z_{α/2}*S / \\sqrt{k} <  l $"
   ]
  },
  {
   "cell_type": "code",
   "execution_count": null,
   "id": "31c6e1b7",
   "metadata": {},
   "outputs": [],
   "source": []
  }
 ],
 "metadata": {
  "kernelspec": {
   "display_name": "Python 3",
   "language": "python",
   "name": "python3"
  },
  "language_info": {
   "codemirror_mode": {
    "name": "ipython",
    "version": 3
   },
   "file_extension": ".py",
   "mimetype": "text/x-python",
   "name": "python",
   "nbconvert_exporter": "python",
   "pygments_lexer": "ipython3",
   "version": "3.9.7"
  }
 },
 "nbformat": 4,
 "nbformat_minor": 5
}
