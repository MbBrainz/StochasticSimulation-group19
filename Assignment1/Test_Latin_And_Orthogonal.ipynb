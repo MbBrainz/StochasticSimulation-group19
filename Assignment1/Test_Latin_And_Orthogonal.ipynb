{
 "cells": [
  {
   "cell_type": "code",
   "execution_count": 11,
   "id": "e2ddbbe0",
   "metadata": {},
   "outputs": [],
   "source": [
    "from importlib import reload\n",
    "\n",
    "import numpy as np\n",
    "import matplotlib.pyplot as plt\n",
    "import mandelbrot_matrix\n",
    "\n",
    "\n",
    "re_lim=(-2,1) \n",
    "im_lim=(-1,1)"
   ]
  },
  {
   "cell_type": "code",
   "execution_count": 18,
   "id": "f9bcd2a0",
   "metadata": {},
   "outputs": [
    {
     "name": "stdout",
     "output_type": "stream",
     "text": [
      "0.3333333333333333\n",
      "0.2222222222222222\n"
     ]
    },
    {
     "data": {
      "image/png": "[encoded data removed]",
      "text/plain": [
       "<Figure size 432x288 with 1 Axes>"
      ]
     },
     "metadata": {
      "needs_background": "light"
     },
     "output_type": "display_data"
    },
    {
     "name": "stdout",
     "output_type": "stream",
     "text": [
      "[-1.9917785  -1.65118231 -1.26270608 -0.6811288  -0.42975818 -0.20473938\n",
      "  0.25970227  0.61101051  0.74866691]\n",
      "[-0.55950211 -0.2622738  -0.93209877  0.5596253   0.47191816 -0.45463352\n",
      "  0.91175793  0.23027226  0.07236614]\n"
     ]
    }
   ],
   "source": [
    "def plot_latin(re_list, im_list, re_lim=[-2,1], im_lim=[-1,1]):\n",
    "    plt.scatter(re_list, im_list)\n",
    "    plt.xticks(ticks=np.arange(re_lim[0], re_lim[1], (re_lim[1]-re_lim[0])/len(re_list)))\n",
    "    plt.yticks(ticks=np.arange(im_lim[0], im_lim[1], (im_lim[1]-im_lim[0])/len(im_list)))\n",
    "    plt.xlim(re_lim)\n",
    "    plt.ylim(im_lim)\n",
    "    plt.grid(b = True)\n",
    "    \n",
    "def generate_latinHyperCube():\n",
    "\n",
    "\n",
    "    width_re = re_lim[1] - re_lim[0]\n",
    "    width_im = im_lim[1] - im_lim[0]\n",
    "\n",
    "    #print(width_re)\n",
    "    #print(width_im)\n",
    "\n",
    "    re_all = []\n",
    "    im_all = []\n",
    "\n",
    "    n = 9\n",
    "    \n",
    "    factor_re = width_re/n\n",
    "    factor_im = width_im/n\n",
    "    \n",
    "    print(factor_re)\n",
    "    print(factor_im)\n",
    "\n",
    "    low_re = re_lim[0]\n",
    "    high_re = low_re + factor_re\n",
    "\n",
    "\n",
    "    low_im = im_lim[0]\n",
    "    high_im = low_im + factor_im\n",
    "\n",
    "    for i in range(n):\n",
    "        re = np.random.uniform(low_re, high_re) # type: ignore\n",
    "        im = np.random.uniform(low_im,high_im) # type: ignore\n",
    "        low_re = high_re\n",
    "        high_re = low_re + factor_re\n",
    "        low_im = high_im\n",
    "        high_im = low_im + factor_im\n",
    "        re_all.append(re)\n",
    "        im_all.append(im)   \n",
    "\n",
    "    start = 0\n",
    "    while(start+1 < n):\n",
    "        selectIndex = np.random.randint(start,n)\n",
    "        #swap start and selectIndex\n",
    "        temp = im_all[selectIndex]\n",
    "        im_all[selectIndex] = im_all[start]\n",
    "        im_all[start] = temp\n",
    "        start = start+1\n",
    "\n",
    "    re_all = np.array(re_all)\n",
    "    im_all = np.array(im_all)\n",
    "    #print(im_all.shape)\n",
    "    random_points = re_all+im_all*1j \n",
    "    \n",
    "    plot_latin(re_all, im_all)\n",
    "    \n",
    "    plt.show()\n",
    "    print(re_all)\n",
    "    print(im_all)\n",
    "    return random_points\n",
    "\n",
    "    #plt.plot(re_all, im_all, \"o\")    \n",
    "    #plt.show()\n",
    "    \n",
    "ran_points = generate_latinHyperCube()"
   ]
  },
  {
   "cell_type": "code",
   "execution_count": 21,
   "id": "8bde660e",
   "metadata": {},
   "outputs": [],
   "source": [
    "nx = ny = n = 3\n",
    "nsq = n*n\n",
    "xlist = np.arange(nsq).reshape((n,n))\n",
    "ylist = np.arange(nsq).reshape((n,n))\n",
    "x_scale = 3.0/nsq\n",
    "y_scale = 2.0/nsq\n",
    "x_randos = []\n",
    "y_randos = []\n",
    "for i in range(n):\n",
    "    xlist[i] = np.random.permutation(xlist[i])\n",
    "    ylist[i] = np.random.permutation(ylist[i])\n",
    "for i in range(n):\n",
    "    for j in range(n):\n",
    "        x = -2.0 + x_scale*(xlist[i][j] + np.int32(np.random.uniform()))\n",
    "        y = -1.0 + y_scale*(ylist[j][i] + np.int32(np.random.uniform()))\n",
    "        x_randos.append(x)\n",
    "        y_randos.append(y)"
   ]
  },
  {
   "cell_type": "code",
   "execution_count": 22,
   "id": "808b2dec",
   "metadata": {},
   "outputs": [
    {
     "data": {
      "image/png": "[encoded data removed]",
      "text/plain": [
       "<Figure size 432x288 with 1 Axes>"
      ]
     },
     "metadata": {
      "needs_background": "light"
     },
     "output_type": "display_data"
    },
    {
     "name": "stdout",
     "output_type": "stream",
     "text": [
      "[-1.6666666666666667, -1.3333333333333335, -2.0, -1.0, -0.3333333333333335, -0.6666666666666667, 0.0, 0.33333333333333304, 0.6666666666666665]\n",
      "[-0.7777777777777778, 0.11111111111111116, 0.5555555555555554, -0.5555555555555556, -0.33333333333333337, 0.7777777777777777, -1.0, -0.11111111111111116, 0.33333333333333326]\n"
     ]
    }
   ],
   "source": [
    "plot_latin(x_randos,y_randos)\n",
    "# plt.grid(b = True)\n",
    "plt.show()\n",
    "print(x_randos)\n",
    "print(y_randos)"
   ]
  },
  {
   "cell_type": "code",
   "execution_count": null,
   "id": "cbab453f",
   "metadata": {},
   "outputs": [],
   "source": []
  }
 ],
 "metadata": {
  "kernelspec": {
   "display_name": "Python 3",
   "language": "python",
   "name": "python3"
  },
  "language_info": {
   "codemirror_mode": {
    "name": "ipython",
    "version": 3
   },
   "file_extension": ".py",
   "mimetype": "text/x-python",
   "name": "python",
   "nbconvert_exporter": "python",
   "pygments_lexer": "ipython3",
   "version": "3.9.7"
  }
 },
 "nbformat": 4,
 "nbformat_minor": 5
}
