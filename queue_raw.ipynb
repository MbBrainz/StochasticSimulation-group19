{
 "cells": [
  {
   "cell_type": "code",
   "execution_count": 3,
   "id": "0ba296df",
   "metadata": {},
   "outputs": [],
   "source": [
    "import simpy\n",
    "import numpy as np\n",
    "\n",
    "STUDENT_NR_MAURITS = 14014777\n",
    "STUDENT_NR_HARSHITA = 13807609\n",
    "\n",
    "SEED = STUDENT_NR_MAURITS + STUDENT_NR_HARSHITA\n",
    "import random\n",
    "import matplotlib.pyplot as plt"
   ]
  },
  {
   "cell_type": "code",
   "execution_count": 10,
   "id": "1339e39f",
   "metadata": {},
   "outputs": [],
   "source": [
    "num_sim = 200\n",
    "T_threshold = 720 # 12 hours\n",
    "random.seed(SEED)\n",
    "num_servers = [1,2,4]\n",
    "\n",
    "rho = 0.4\n",
    "mu = 15      # per minute\n",
    "lambd = [25/4,25/2,25]\n"
   ]
  },
  {
   "cell_type": "code",
   "execution_count": 19,
   "id": "6a19fe88",
   "metadata": {},
   "outputs": [
    {
     "name": "stdout",
     "output_type": "stream",
     "text": [
      "0.4166666666666667\n"
     ]
    }
   ],
   "source": [
    "print(25/(4*mu))"
   ]
  },
  {
   "cell_type": "markdown",
   "id": "e857a4f1",
   "metadata": {},
   "source": [
    "# Average waiting time for 1,2 and 4 servers with the same load"
   ]
  },
  {
   "cell_type": "code",
   "execution_count": 12,
   "id": "9f149213",
   "metadata": {},
   "outputs": [
    {
     "name": "stdout",
     "output_type": "stream",
     "text": [
      "1\n",
      "0.047341630931859086\n",
      "\n",
      "\n",
      "2\n",
      "0.030644490237042774\n",
      "\n",
      "\n",
      "4\n",
      "0.021410915820267294\n",
      "\n",
      "\n"
     ]
    }
   ],
   "source": [
    "# Distribution of mu(service rate)\n",
    "\n",
    "# simpy works in minutes(lambda - number of arrivals per minute or appropriate change it in hours)\n",
    "# Here system is a shop\n",
    "# Agent is - Customer\n",
    "# Process - serving\n",
    "# resource - cashier/shopkeeper\n",
    "class System(object):\n",
    "    def __init__(self,env,num_servers,lambda_a,mu,service_distribution):\n",
    "        self.env = env\n",
    "        self.server = simpy.Resource(env,capacity = num_servers)\n",
    "        self.n = 0    # Total customers inside the shop\n",
    "        self.lambd = lambda_a\n",
    "        self.mu = mu\n",
    "        self.serDist = service_distribution\n",
    "        self.waitTimes = []\n",
    "        self.actual_wait = []\n",
    "        self.customer = []\n",
    "        \n",
    "    \n",
    "def customer(env,system):\n",
    "    arrival_time = env.now\n",
    "    #if()\n",
    "    service_time = np.random.exponential(scale=1/system.mu)\n",
    "    \n",
    "    with system.server.request() as request_server:\n",
    "        yield request_server\n",
    "        \n",
    "        waiting_time = env.now - arrival_time\n",
    "        system.actual_wait.append(waiting_time)\n",
    "   \n",
    "        # Starts billing at the counter\n",
    "        #print('starting to serve the customer at %s' % (env.now))\n",
    "        yield env.timeout(service_time)\n",
    "        #print('Customer has purchades goods and is leaving the store at %s' % (env.now))\n",
    "            \n",
    "    response_time = env.now - arrival_time\n",
    "    system.waitTimes.append(response_time)\n",
    "    #system.n  = system.n - 1\n",
    "    #system.customer.append(system.n)\n",
    "    \n",
    "def generate(env,system):\n",
    "    # shop opens at time 9:00 AM so time t = 0 and closes at 9:00 PM so T = 12\n",
    "    while(env.now <= T_threshold):\n",
    "        # First customer not arriving at time t = 0 but at inter_arrival time\n",
    "        inter_arrival = np.random.exponential(scale=1/system.lambd)\n",
    "        yield env.timeout(inter_arrival)\n",
    "        env.process(customer(env,system))\n",
    "        system.n += 1\n",
    "        #system.customer.append(system.n)\n",
    "        \n",
    "def get_average_wait_time(wait_times):\n",
    "    average_wait_time = np.mean(wait_times)\n",
    "    return average_wait_time\n",
    "\n",
    "q_length = []\n",
    "def observe(env,system):\n",
    "    while(env.now < T_threshold):\n",
    "        q_length.append(len(system.server.queue))\n",
    "        #print(len(system.server.queue))\n",
    "        yield env.timeout(1.0)\n",
    "        \n",
    "        \n",
    "        \n",
    "\n",
    "service_distribution = \"exponential\"\n",
    "avg_time = []\n",
    "\n",
    "\n",
    "for i in range(len(num_servers)):\n",
    "    for sim in range(num_sim):\n",
    "        # Run the simulation\n",
    "        env = simpy.Environment()\n",
    "        system = System(env,num_servers[i],lambd[i],mu,service_distribution)\n",
    "        env.process(generate(env,system))\n",
    "        env.process(observe(env,system))\n",
    "        env.run()\n",
    "        avg_time.append(get_average_wait_time(system.actual_wait))\n",
    "    #num_customers.append(system.n)\n",
    "    print(num_servers[i])\n",
    "    print(np.mean(avg_time))\n",
    "    print('\\n')\n",
    "    \n",
    "    "
   ]
  },
  {
   "cell_type": "markdown",
   "id": "f80efa59",
   "metadata": {},
   "source": [
    "# load of 0.66"
   ]
  },
  {
   "cell_type": "code",
   "execution_count": 20,
   "id": "e4ad5bd4",
   "metadata": {},
   "outputs": [
    {
     "name": "stdout",
     "output_type": "stream",
     "text": [
      "0.6666666666666666\n"
     ]
    }
   ],
   "source": [
    "num_sim = 200\n",
    "T_threshold = 720 # 12 hours\n",
    "random.seed(SEED)\n",
    "num_servers = [1,2,4]\n",
    "\n",
    "rho = 0.4\n",
    "mu = 15      # per minute\n",
    "lambd = [40/4,40/2,40]\n",
    "\n",
    "print(40/(4*mu))"
   ]
  },
  {
   "cell_type": "code",
   "execution_count": 21,
   "id": "37f26de3",
   "metadata": {},
   "outputs": [
    {
     "name": "stdout",
     "output_type": "stream",
     "text": [
      "1\n",
      "0.13420475493974698\n",
      "\n",
      "\n",
      "2\n",
      "0.09384146702155743\n",
      "\n",
      "\n",
      "4\n",
      "0.06888423803589734\n",
      "\n",
      "\n"
     ]
    }
   ],
   "source": [
    "# Distribution of mu(service rate)\n",
    "\n",
    "# simpy works in minutes(lambda - number of arrivals per minute or appropriate change it in hours)\n",
    "# Here system is a shop\n",
    "# Agent is - Customer\n",
    "# Process - serving\n",
    "# resource - cashier/shopkeeper\n",
    "class System(object):\n",
    "    def __init__(self,env,num_servers,lambda_a,mu,service_distribution):\n",
    "        self.env = env\n",
    "        self.server = simpy.Resource(env,capacity = num_servers)\n",
    "        self.n = 0    # Total customers inside the shop\n",
    "        self.lambd = lambda_a\n",
    "        self.mu = mu\n",
    "        self.serDist = service_distribution\n",
    "        self.waitTimes = []\n",
    "        self.actual_wait = []\n",
    "        self.customer = []\n",
    "        \n",
    "    \n",
    "def customer(env,system):\n",
    "    arrival_time = env.now\n",
    "    #if()\n",
    "    service_time = np.random.exponential(scale=1/system.mu)\n",
    "    \n",
    "    with system.server.request() as request_server:\n",
    "        yield request_server\n",
    "        \n",
    "        waiting_time = env.now - arrival_time\n",
    "        system.actual_wait.append(waiting_time)\n",
    "   \n",
    "        # Starts billing at the counter\n",
    "        #print('starting to serve the customer at %s' % (env.now))\n",
    "        yield env.timeout(service_time)\n",
    "        #print('Customer has purchades goods and is leaving the store at %s' % (env.now))\n",
    "            \n",
    "    response_time = env.now - arrival_time\n",
    "    system.waitTimes.append(response_time)\n",
    "    #system.n  = system.n - 1\n",
    "    #system.customer.append(system.n)\n",
    "    \n",
    "def generate(env,system):\n",
    "    # shop opens at time 9:00 AM so time t = 0 and closes at 9:00 PM so T = 12\n",
    "    while(env.now <= T_threshold):\n",
    "        # First customer not arriving at time t = 0 but at inter_arrival time\n",
    "        inter_arrival = np.random.exponential(scale=1/system.lambd)\n",
    "        yield env.timeout(inter_arrival)\n",
    "        env.process(customer(env,system))\n",
    "        system.n += 1\n",
    "        #system.customer.append(system.n)\n",
    "        \n",
    "def get_average_wait_time(wait_times):\n",
    "    average_wait_time = np.mean(wait_times)\n",
    "    return average_wait_time\n",
    "\n",
    "q_length = []\n",
    "def observe(env,system):\n",
    "    while(env.now < T_threshold):\n",
    "        q_length.append(len(system.server.queue))\n",
    "        #print(len(system.server.queue))\n",
    "        yield env.timeout(1.0)\n",
    "        \n",
    "        \n",
    "        \n",
    "\n",
    "service_distribution = \"exponential\"\n",
    "avg_time = []\n",
    "\n",
    "\n",
    "for i in range(len(num_servers)):\n",
    "    for sim in range(num_sim):\n",
    "        # Run the simulation\n",
    "        env = simpy.Environment()\n",
    "        system = System(env,num_servers[i],lambd[i],mu,service_distribution)\n",
    "        env.process(generate(env,system))\n",
    "        env.process(observe(env,system))\n",
    "        env.run()\n",
    "        avg_time.append(get_average_wait_time(system.actual_wait))\n",
    "    #num_customers.append(system.n)\n",
    "    print(num_servers[i])\n",
    "    print(np.mean(avg_time))\n",
    "    print('\\n')\n",
    "    \n",
    "    "
   ]
  },
  {
   "cell_type": "markdown",
   "id": "cfce255a",
   "metadata": {},
   "source": [
    "# Graph of convergence of waiting time with increase in simulation runs(M/M/1)"
   ]
  },
  {
   "cell_type": "markdown",
   "id": "7232bdf0",
   "metadata": {},
   "source": [
    "# Average Response time"
   ]
  },
  {
   "cell_type": "code",
   "execution_count": 32,
   "id": "2299b309",
   "metadata": {},
   "outputs": [],
   "source": [
    "num_sim_arr = [10,50,100,200,350,500,800,1000,1200,1500,2000,3000,4000]\n",
    "T_threshold = 720 # 12 hours\n",
    "random.seed(SEED)\n",
    "num_servers = 1\n",
    "\n",
    "rho = 0.4\n",
    "mu = 15      # per minute\n",
    "lambd = 25/4\n"
   ]
  },
  {
   "cell_type": "code",
   "execution_count": 34,
   "id": "33143e95",
   "metadata": {},
   "outputs": [
    {
     "name": "stdout",
     "output_type": "stream",
     "text": [
      "1\n",
      "\n",
      "\n",
      "1\n",
      "\n",
      "\n",
      "1\n",
      "\n",
      "\n",
      "1\n",
      "\n",
      "\n",
      "1\n",
      "\n",
      "\n",
      "1\n",
      "\n",
      "\n",
      "1\n",
      "\n",
      "\n",
      "1\n",
      "\n",
      "\n",
      "1\n",
      "\n",
      "\n",
      "1\n",
      "\n",
      "\n",
      "1\n",
      "\n",
      "\n",
      "1\n",
      "\n",
      "\n",
      "1\n",
      "\n",
      "\n"
     ]
    }
   ],
   "source": [
    "# Distribution of mu(service rate)\n",
    "\n",
    "# simpy works in minutes(lambda - number of arrivals per minute or appropriate change it in hours)\n",
    "# Here system is a shop\n",
    "# Agent is - Customer\n",
    "# Process - serving\n",
    "# resource - cashier/shopkeeper\n",
    "class System(object):\n",
    "    def __init__(self,env,num_servers,lambda_a,mu,service_distribution):\n",
    "        self.env = env\n",
    "        self.server = simpy.Resource(env,capacity = num_servers)\n",
    "        self.n = 0    # Total customers inside the shop\n",
    "        self.lambd = lambda_a\n",
    "        self.mu = mu\n",
    "        self.serDist = service_distribution\n",
    "        self.waitTimes = []\n",
    "        self.actual_wait = []\n",
    "        self.customer = []\n",
    "        \n",
    "    \n",
    "def customer(env,system):\n",
    "    arrival_time = env.now\n",
    "    #if()\n",
    "    service_time = np.random.exponential(scale=1/system.mu)\n",
    "    \n",
    "    with system.server.request() as request_server:\n",
    "        yield request_server\n",
    "        \n",
    "        waiting_time = env.now - arrival_time\n",
    "        system.actual_wait.append(waiting_time)\n",
    "   \n",
    "        # Starts billing at the counter\n",
    "        #print('starting to serve the customer at %s' % (env.now))\n",
    "        yield env.timeout(service_time)\n",
    "        #print('Customer has purchades goods and is leaving the store at %s' % (env.now))\n",
    "            \n",
    "    response_time = env.now - arrival_time\n",
    "    system.waitTimes.append(response_time)\n",
    "    #system.n  = system.n - 1\n",
    "    #system.customer.append(system.n)\n",
    "    \n",
    "def generate(env,system):\n",
    "    # shop opens at time 9:00 AM so time t = 0 and closes at 9:00 PM so T = 12\n",
    "    while(env.now <= T_threshold):\n",
    "        # First customer not arriving at time t = 0 but at inter_arrival time\n",
    "        inter_arrival = np.random.exponential(scale=1/system.lambd)\n",
    "        yield env.timeout(inter_arrival)\n",
    "        env.process(customer(env,system))\n",
    "        system.n += 1\n",
    "        #system.customer.append(system.n)\n",
    "        \n",
    "def get_average_wait_time(wait_times):\n",
    "    average_wait_time = np.mean(wait_times)\n",
    "    return average_wait_time\n",
    "\n",
    "q_length = []\n",
    "def observe(env,system):\n",
    "    while(env.now < T_threshold):\n",
    "        q_length.append(len(system.server.queue))\n",
    "        #print(len(system.server.queue))\n",
    "        yield env.timeout(1.0)\n",
    "        \n",
    "        \n",
    "        \n",
    "\n",
    "service_distribution = \"exponential\"\n",
    "avg_time = []\n",
    "avg_timt_y = []\n",
    "\n",
    "\n",
    "for num_sim in num_sim_arr:\n",
    "    for sim in range(num_sim):\n",
    "        # Run the simulation\n",
    "        env = simpy.Environment()\n",
    "        system = System(env,num_servers,lambd,mu,service_distribution)\n",
    "        env.process(generate(env,system))\n",
    "        env.process(observe(env,system))\n",
    "        env.run()\n",
    "        avg_time.append(get_average_wait_time(system.actual_wait))\n",
    "    #num_customers.append(system.n)\n",
    "    avg_timt_y.append(np.mean(avg_time))\n",
    "    print(num_servers)\n",
    "    #print(np.mean(avg_time))\n",
    "    print('\\n')\n",
    "    \n",
    "    "
   ]
  },
  {
   "cell_type": "code",
   "execution_count": 35,
   "id": "64730c1d",
   "metadata": {},
   "outputs": [
    {
     "name": "stdout",
     "output_type": "stream",
     "text": [
      "[0.04733841807256124, 0.04734163675523396, 0.047673420306026684, 0.04755649672200987, 0.047544711927646276, 0.047464819509879956, 0.047519032362241725, 0.04755488828452877, 0.047527689930453795, 0.047528369020399835, 0.04752339822078653, 0.04755945590805764, 0.04755695892568142]\n"
     ]
    }
   ],
   "source": [
    "print(avg_timt_y)"
   ]
  },
  {
   "cell_type": "code",
   "execution_count": 42,
   "id": "526076a2",
   "metadata": {},
   "outputs": [
    {
     "name": "stdout",
     "output_type": "stream",
     "text": [
      "0.04761904761904763\n"
     ]
    }
   ],
   "source": [
    "rho = lambd/mu\n",
    "print(rho/(mu*(1-rho)))"
   ]
  },
  {
   "cell_type": "code",
   "execution_count": 68,
   "id": "0e2d65a8",
   "metadata": {},
   "outputs": [],
   "source": [
    "avg_time_y = [0.04733841807256124, 0.04734163675523396, 0.047673420306026684, 0.04755649672200987, 0.047544711927646276, 0.047464819509879956, 0.047519032362241725, 0.04755488828452877, 0.047527689930453795, 0.047528369020399835, 0.04752339822078653, 0.04755945590805764, 0.04755695892568142]"
   ]
  },
  {
   "cell_type": "code",
   "execution_count": 51,
   "id": "3c6ca641",
   "metadata": {},
   "outputs": [
    {
     "name": "stdout",
     "output_type": "stream",
     "text": [
      "[0.04733841807256124, 0.04734163675523396, 0.047673420306026684, 0.04755649672200987, 0.047544711927646276, 0.047464819509879956, 0.047519032362241725, 0.04755488828452877, 0.047527689930453795, 0.047528369020399835, 0.04752339822078653, 0.04755945590805764, 0.04755695892568142]\n"
     ]
    }
   ],
   "source": [
    "print(avg_time_y)"
   ]
  },
  {
   "cell_type": "code",
   "execution_count": 60,
   "id": "81045190",
   "metadata": {},
   "outputs": [
    {
     "name": "stdout",
     "output_type": "stream",
     "text": [
      "13\n"
     ]
    }
   ],
   "source": [
    "print(len(avg_time_y))"
   ]
  },
  {
   "cell_type": "code",
   "execution_count": 69,
   "id": "dcc37eb4",
   "metadata": {},
   "outputs": [
    {
     "name": "stdout",
     "output_type": "stream",
     "text": [
      "[2.8403050843536746, 2.8404982053140375, 2.860405218361601, 2.853389803320592, 2.8526827156587764, 2.8478891705927976, 2.8511419417345034, 2.853293297071726, 2.851661395827228, 2.8517021412239902, 2.8514038932471917, 2.8535673544834586, 2.853417535540885]\n",
      "2.8571428571428577\n"
     ]
    }
   ],
   "source": [
    "for i in range(len(avg_time_y)) :\n",
    "    avg_time_y[i] = 60*avg_time_y[i]\n",
    "print(avg_time_y)\n",
    "\n",
    "print(0.04761904761904763*60)"
   ]
  },
  {
   "cell_type": "code",
   "execution_count": 65,
   "id": "84650f89",
   "metadata": {},
   "outputs": [
    {
     "data": {
      "text/plain": [
       "[<matplotlib.lines.Line2D at 0x7fd182269580>]"
      ]
     },
     "execution_count": 65,
     "metadata": {},
     "output_type": "execute_result"
    },
    {
     "data": {
      "image/png": "[encoded data removed]",
      "text/plain": [
       "<Figure size 432x288 with 1 Axes>"
      ]
     },
     "metadata": {
      "needs_background": "light"
     },
     "output_type": "display_data"
    }
   ],
   "source": [
    "plt.plot(num_sim_arr,avg_time_y)\n",
    "#plt.yscale(\"log\")"
   ]
  },
  {
   "cell_type": "markdown",
   "id": "a8d7f709",
   "metadata": {},
   "source": [
    "# Probability distribution of mean waiting time \n",
    "system more stable with \n",
    "\n",
    "Increase in customer number our markov model becomes more stable\n",
    "(or observe for a longer period of time)"
   ]
  },
  {
   "cell_type": "markdown",
   "id": "18bf825f",
   "metadata": {},
   "source": [
    "# Confidence Interval"
   ]
  },
  {
   "cell_type": "markdown",
   "id": "5f791558",
   "metadata": {},
   "source": [
    "$ \\bar{X}_{j+1} = \\bar{X}_{j} + \\frac{X_{j+1} - \\bar{X}_{j}}{j+1} $\n",
    "\n",
    "\n",
    "$ {S}_{j+1}^{2} = (1-\\frac{1}{j})S_{j}^{2}+(j+1)(\\bar{X}_{j+1} - \\bar{X}_{j})^{2} $"
   ]
  },
  {
   "cell_type": "code",
   "execution_count": null,
   "id": "7e2221f7",
   "metadata": {},
   "outputs": [],
   "source": [
    "%%time\n",
    "\n",
    "num_sim = 100    # number of simulations to run``\n",
    "\n",
    "\n",
    "avg_timt_y = []\n",
    "avg_waiting_time = []\n",
    "\n",
    "def run_simulation():\n",
    "    env = simpy.Environment()\n",
    "    system = System(env,num_servers,lambd,mu,service_distribution)\n",
    "    env.process(generate(env,system))\n",
    "    env.process(observe(env,system))\n",
    "    env.run()\n",
    "    return get_average_wait_time(system.actual_wait)\n",
    "\n",
    "\n",
    "\n",
    "for sim in range(num_sim):\n",
    "        avg_wait = run_simulation()\n",
    "        avg_waiting_time.append(avg_wait)\n",
    "        \n",
    "# Estimators - mean and variance(unbiased)\n",
    "        \n",
    "prev_estimated_mean = sum(avg_waiting_time)/num_sim\n",
    "        \n",
    "mean_difference = 0\n",
    "\n",
    "for i in range(num_sim):\n",
    "    mean_difference += (avg_waiting_time[i]-prev_estimated_mean)**2\n",
    "    \n",
    "prev_estimated_variance = mean_difference/(num_sim-1)\n",
    "\n",
    "\n",
    "l = 0.015\n",
    "z = 1.96\n",
    "estimated_std_deviation = np.sqrt(prev_estimated_variance)\n",
    "acceptable_window = 2*z*estimated_std_deviation/np.sqrt(n_sim)\n",
    "print(acceptable_window)\n",
    "\n"
   ]
  },
  {
   "cell_type": "code",
   "execution_count": 28,
   "id": "81c0efc5",
   "metadata": {},
   "outputs": [
    {
     "name": "stdout",
     "output_type": "stream",
     "text": [
      "0.6666666666666666\n"
     ]
    }
   ],
   "source": [
    "num_sim = 200\n",
    "T_threshold = 720 # 12 hours\n",
    "random.seed(SEED)\n",
    "num_servers = [1,2,4]\n",
    "\n",
    "rho = 0.4\n",
    "mu = 15      # per minute\n",
    "lambd = [40/4,40/2,40]\n",
    "\n",
    "print(40/(4*mu))"
   ]
  },
  {
   "cell_type": "code",
   "execution_count": null,
   "id": "caef36d2",
   "metadata": {},
   "outputs": [],
   "source": []
  },
  {
   "cell_type": "code",
   "execution_count": 29,
   "id": "5cf25e91",
   "metadata": {},
   "outputs": [
    {
     "name": "stdout",
     "output_type": "stream",
     "text": [
      "1\n",
      "0.20063634670643457\n",
      "0.6675345342989139\n",
      "\n",
      "\n",
      "2\n",
      "0.1602202152809511\n",
      "0.6674283842722035\n",
      "\n",
      "\n",
      "4\n",
      "0.13533865655957542\n",
      "0.6670094846805381\n",
      "\n",
      "\n"
     ]
    }
   ],
   "source": [
    "# Distribution of mu(service rate)\n",
    "\n",
    "# simpy works in minutes(lambda - number of arrivals per minute or appropriate change it in hours)\n",
    "# Here system is a shop\n",
    "# Agent is - Customer\n",
    "# Process - serving\n",
    "# resource - cashier/shopkeeper\n",
    "class System(object):\n",
    "    def __init__(self,env,num_servers,lambda_a,mu,service_distribution):\n",
    "        self.env = env\n",
    "        self.numServer = num_servers\n",
    "        self.server = simpy.Resource(env,capacity = num_servers)\n",
    "        self.n = 0    # Total customers inside the shop\n",
    "        self.lambd = lambda_a\n",
    "        self.mu = mu\n",
    "        self.serDist = service_distribution\n",
    "        self.waitTimes = []\n",
    "        self.actual_wait = []\n",
    "        self.customer = []\n",
    "        \n",
    "    \n",
    "def customer(env,system):\n",
    "    arrival_time = env.now\n",
    "    #if()\n",
    "    service_time = np.random.exponential(scale=1/system.mu)\n",
    "    \n",
    "    with system.server.request() as request_server:\n",
    "        yield request_server\n",
    "        \n",
    "        waiting_time = env.now - arrival_time\n",
    "        system.actual_wait.append(waiting_time)\n",
    "   \n",
    "        # Starts billing at the counter\n",
    "        #print('starting to serve the customer at %s' % (env.now))\n",
    "        yield env.timeout(service_time)\n",
    "        #print('Customer has purchades goods and is leaving the store at %s' % (env.now))\n",
    "            \n",
    "    response_time = env.now - arrival_time\n",
    "    system.waitTimes.append(response_time)\n",
    "    system.n  = system.n - 1\n",
    "    #system.customer.append(system.n)\n",
    "    \n",
    "def generate(env,system):\n",
    "    # shop opens at time 9:00 AM so time t = 0 and closes at 9:00 PM so T = 12\n",
    "    while(env.now <= T_threshold):\n",
    "        # First customer not arriving at time t = 0 but at inter_arrival time\n",
    "        inter_arrival = np.random.exponential(scale=1/system.lambd)\n",
    "        yield env.timeout(inter_arrival)\n",
    "        env.process(customer(env,system))\n",
    "        system.n += 1\n",
    "        #system.customer.append(system.n)\n",
    "        \n",
    "def get_average_wait_time(wait_times):\n",
    "    average_wait_time = np.mean(wait_times)\n",
    "    return average_wait_time\n",
    "\n",
    "q_length = []\n",
    "resource_utilization_fraction = []\n",
    "def observe(env,system):\n",
    "    while(env.now < T_threshold):\n",
    "        q_length.append(len(system.server.queue))\n",
    "        if(system.server.count < system.numServer):\n",
    "            \n",
    "            resource_utilization_fraction.append(system.server.count/system.numServer)   \n",
    "        \n",
    "        else:\n",
    "            resource_utilization_fraction.append(1)\n",
    "        #print(len(system.server.queue))\n",
    "        yield env.timeout(1.0)\n",
    "        \n",
    "        \n",
    "        \n",
    "\n",
    "service_distribution = \"exponential\"\n",
    "avg_response_time = []\n",
    "avg_utilization = []\n",
    "\n",
    "for i in range(len(num_servers)):\n",
    "    for sim in range(num_sim):\n",
    "        # Run the simulation\n",
    "        env = simpy.Environment()\n",
    "        system = System(env,num_servers[i],lambd[i],mu,service_distribution)\n",
    "        env.process(generate(env,system))\n",
    "        env.process(observe(env,system))\n",
    "        env.run()\n",
    "        avg_response_time.append(get_average_wait_time(system.waitTimes))\n",
    "        avg_utilization.append(get_average_wait_time(resource_utilization_fraction))\n",
    "        \n",
    "    #num_customers.append(system.n)\n",
    "    print(num_servers[i])\n",
    "    print(np.mean(avg_response_time))\n",
    "    print(np.mean(avg_utilization))\n",
    "    print('\\n')\n",
    "    \n",
    "    "
   ]
  },
  {
   "cell_type": "code",
   "execution_count": 16,
   "id": "21161a08",
   "metadata": {},
   "outputs": [
    {
     "name": "stdout",
     "output_type": "stream",
     "text": [
      "0.10666666666666667\n",
      "0.05333333333333334\n",
      "0.02666666666666667\n"
     ]
    }
   ],
   "source": [
    "for i in range(len(lambd)):\n",
    "    print(rho/((1-rho)*lambd[i]))"
   ]
  },
  {
   "cell_type": "code",
   "execution_count": null,
   "id": "4363c7e4",
   "metadata": {},
   "outputs": [],
   "source": [
    "for sim in range(num_sim):\n",
    "    # Run the simulation\n",
    "    env = simpy.Environment()\n",
    "    system = System(env, num_servers_single, lambda_a_single,mu,service_distribution)\n",
    "    env.process(generate(env,system))\n",
    "    env.run()\n",
    "    avg_time.append(get_average_wait_time(system.waitTimes))\n",
    "    #num_customers.append(system.n)\n",
    "    \n",
    "print(np.mean(avg_time))\n",
    "#print(num_customers)"
   ]
  },
  {
   "cell_type": "code",
   "execution_count": 46,
   "id": "b1669879",
   "metadata": {},
   "outputs": [
    {
     "name": "stdout",
     "output_type": "stream",
     "text": [
      "0.9992988229424623\n"
     ]
    }
   ],
   "source": [
    "cust = []\n",
    "\n",
    "for sim in range(num_sim):\n",
    "    # Run the simulation\n",
    "    env = simpy.Environment()\n",
    "    system = System(env, num_servers_single, lambda_a_single,mu,service_distribution)\n",
    "    env.process(generate(env,system))\n",
    "    env.run()\n",
    "    cust.append(get_average_wait_time(system.customer))\n",
    "    #num_customers.append(system.n)\n",
    "    \n",
    "print(np.mean(cust))\n",
    "#print(num_customers)"
   ]
  },
  {
   "cell_type": "code",
   "execution_count": 42,
   "id": "dcdce654",
   "metadata": {},
   "outputs": [
    {
     "data": {
      "image/png": "[encoded data removed]",
      "text/plain": [
       "<Figure size 432x288 with 1 Axes>"
      ]
     },
     "metadata": {
      "needs_background": "light"
     },
     "output_type": "display_data"
    },
    {
     "name": "stdout",
     "output_type": "stream",
     "text": [
      "0\n",
      "1.0069551777434311\n",
      "0.49999999999999994\n",
      "0\n"
     ]
    }
   ],
   "source": [
    "rho = lambda_a_single/(mu)\n",
    "env = simpy.Environment()\n",
    "system = System(env, num_servers_single, lambda_a_single,mu,service_distribution)\n",
    "env.process(generate(env,system))\n",
    "env.run()\n",
    "weights = np.ones_like(system.waitTimes) / len(system.waitTimes)\n",
    "plt.hist(system.waitTimes,weights=weights, bins= 50, edgecolor='black')\n",
    "plt.show()\n",
    "\n",
    "print(system.n)\n",
    "print(get_average_wait_time(system.customer))\n",
    "print(rho/(1-rho))\n",
    "print(system.n)\n",
    "\n",
    "# response time follows exponential distribution\n"
   ]
  },
  {
   "cell_type": "code",
   "execution_count": 33,
   "id": "d1fb6f60",
   "metadata": {},
   "outputs": [
    {
     "data": {
      "image/png": "[encoded data removed]",
      "text/plain": [
       "<Figure size 432x288 with 1 Axes>"
      ]
     },
     "metadata": {
      "needs_background": "light"
     },
     "output_type": "display_data"
    }
   ],
   "source": [
    "env = simpy.Environment()\n",
    "system = System(env, num_servers_single, lambda_a_single,mu,service_distribution)\n",
    "env.process(generate(env,system))\n",
    "env.run()\n",
    "weights = np.ones_like(system.actual_wait) / len(system.actual_wait)\n",
    "plt.hist(system.actual_wait,weights=weights, bins= 50, edgecolor='black')\n",
    "plt.show()\n",
    "\n",
    "# doesn't follow exponential distribution"
   ]
  },
  {
   "cell_type": "code",
   "execution_count": 4,
   "id": "5321167e",
   "metadata": {},
   "outputs": [
    {
     "name": "stdout",
     "output_type": "stream",
     "text": [
      "0.5\n"
     ]
    }
   ],
   "source": [
    "0.008571522311735998\n",
    "0.03307090256445418\n",
    "\n",
    "\n",
    "0.07483901532100676\n",
    "0.1001360999041171\n",
    "\n",
    "\n",
    "\n",
    "\n",
    "\n"
   ]
  },
  {
   "cell_type": "code",
   "execution_count": 28,
   "id": "0ab43e0e",
   "metadata": {},
   "outputs": [
    {
     "data": {
      "image/png": "[encoded data removed]",
      "text/plain": [
       "<Figure size 432x288 with 1 Axes>"
      ]
     },
     "metadata": {
      "needs_background": "light"
     },
     "output_type": "display_data"
    }
   ],
   "source": [
    "weights = np.ones_like(avg_time) / len(avg_time)\n",
    "plt.hist(avg_time,weights=weights, bins= 50, edgecolor='black')\n",
    "plt.show()\n",
    "\n",
    "# mean waiting time probability distribution graph for different N and different different number of servers - FIFO,determinitis,shortest time\n",
    "# different load -  different waiting times\n",
    "# same load, different serevrs waiting time "
   ]
  },
  {
   "cell_type": "code",
   "execution_count": 30,
   "id": "76127fc7",
   "metadata": {},
   "outputs": [
    {
     "name": "stdout",
     "output_type": "stream",
     "text": [
      "0.21033763215191809\n",
      "The null hypothesis cannot be rejected\n",
      "99.9\n"
     ]
    }
   ],
   "source": [
    "from scipy import stats\n",
    "k2, p = stats.normaltest(avg_time)\n",
    "alpha = 1e-3\n",
    "print(p)\n",
    "if p < alpha:  # null hypothesis: x comes from a normal distribution\n",
    "    print(\"The null hypothesis can be rejected\")\n",
    "else:\n",
    "    print(\"The null hypothesis cannot be rejected\")\n",
    "    \n",
    "print(100*(1-alpha))"
   ]
  },
  {
   "cell_type": "code",
   "execution_count": null,
   "id": "eea40e39",
   "metadata": {},
   "outputs": [],
   "source": [
    "# If not enough workers/servers then high wait time\n",
    "\n",
    "# Black friday - High lambda \n",
    "Resource allocation should be proper - need to appoint more workers \n",
    "# less Lambda - idle servers ? \n",
    "\n",
    "\n",
    "# Vary lambda, mu , num_servers to see how the system behaves"
   ]
  },
  {
   "cell_type": "code",
   "execution_count": null,
   "id": "6dfd8948",
   "metadata": {},
   "outputs": [],
   "source": []
  },
  {
   "cell_type": "code",
   "execution_count": null,
   "id": "4b4345eb",
   "metadata": {},
   "outputs": [],
   "source": [
    "Simulation is all about creating a virtual environment to reflect a real-world system"
   ]
  }
 ],
 "metadata": {
  "kernelspec": {
   "display_name": "Python 3",
   "language": "python",
   "name": "python3"
  },
  "language_info": {
   "codemirror_mode": {
    "name": "ipython",
    "version": 3
   },
   "file_extension": ".py",
   "mimetype": "text/x-python",
   "name": "python",
   "nbconvert_exporter": "python",
   "pygments_lexer": "ipython3",
   "version": "3.8.8"
  }
 },
 "nbformat": 4,
 "nbformat_minor": 5
}
