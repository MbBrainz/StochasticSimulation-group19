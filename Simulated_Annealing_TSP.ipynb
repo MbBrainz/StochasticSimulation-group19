{
 "cells": [
  {
   "cell_type": "code",
   "execution_count": 1,
   "id": "1737c582",
   "metadata": {},
   "outputs": [],
   "source": [
    "import numpy as np\n",
    "import math\n",
    "from random import seed\n",
    "from random import random\n",
    "from numba import jit"
   ]
  },
  {
   "cell_type": "code",
   "execution_count": 3,
   "id": "d51ef15d",
   "metadata": {},
   "outputs": [],
   "source": [
    "T_start = 1000\n",
    "T_end = 1\n",
    "cooling_factor = 0.99\n",
    "nMarkov = 1000\n",
    "from functions import read_tsp_file\n",
    "coords = read_tsp_file(\"Assignment3/TSP-Configurations/eil51.tsp\")\n",
    "\n",
    "from functions import comp_shortest_path\n",
    "itr, min_cost, optimal_list_cities = comp_shortest_path(T_start, T_end, cooling_factor, nMarkov, coords)\n"
   ]
  },
  {
   "cell_type": "code",
   "execution_count": 4,
   "id": "ef74e4d4",
   "metadata": {},
   "outputs": [
    {
     "name": "stdout",
     "output_type": "stream",
     "text": [
      "423.77585422955303\n"
     ]
    }
   ],
   "source": [
    "print(min_cost)"
   ]
  },
  {
   "cell_type": "code",
   "execution_count": 5,
   "id": "37d39f45",
   "metadata": {},
   "outputs": [
    {
     "name": "stdout",
     "output_type": "stream",
     "text": [
      "[31  0 21  1 10 37  4 36 16  3 17 46 11 45 50 26  5 47 22 23 42  6 25  7\n",
      " 30 27  2 35 34 19 28 20 15 49 33 29  8 48  9 38 32 44 14 43 41 39 18 40\n",
      " 12 24 13]\n"
     ]
    }
   ],
   "source": [
    "print(optimal_list_cities)"
   ]
  },
  {
   "cell_type": "code",
   "execution_count": 6,
   "id": "4ed9d05f",
   "metadata": {},
   "outputs": [
    {
     "name": "stdout",
     "output_type": "stream",
     "text": [
      "688\n"
     ]
    }
   ],
   "source": [
    "print(itr)"
   ]
  },
  {
   "cell_type": "markdown",
   "id": "a291a97d",
   "metadata": {},
   "source": []
  },
  {
   "cell_type": "code",
   "execution_count": null,
   "id": "3eafc3b6",
   "metadata": {},
   "outputs": [],
   "source": []
  }
 ],
 "metadata": {
  "kernelspec": {
   "display_name": "Python 3",
   "language": "python",
   "name": "python3"
  },
  "language_info": {
   "codemirror_mode": {
    "name": "ipython",
    "version": 3
   },
   "file_extension": ".py",
   "mimetype": "text/x-python",
   "name": "python",
   "nbconvert_exporter": "python",
   "pygments_lexer": "ipython3",
   "version": "3.9.9"
  }
 },
 "nbformat": 4,
 "nbformat_minor": 5
}
